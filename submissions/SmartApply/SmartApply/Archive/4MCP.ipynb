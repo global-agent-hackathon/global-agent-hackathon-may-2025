{
 "cells": [
  {
   "cell_type": "code",
   "execution_count": 1,
   "metadata": {},
   "outputs": [],
   "source": [
    "from langchain.agents import create_openai_functions_agent, AgentExecutor\n",
    "from langchain import hub\n",
    "from langchain_openai import ChatOpenAI\n",
    "from composio_langchain import ComposioToolSet, Action, App\n",
    "llm = ChatOpenAI()\n",
    "prompt = hub.pull(\"hwchase17/openai-functions-agent\")\n",
    "\n",
    "composio_toolset = ComposioToolSet(api_key=\"kc73e496wa2vqwzthdtta\")\n",
    "tools = composio_toolset.get_tools(actions=['GMAIL_SEND_EMAIL'])"
   ]
  },
  {
   "cell_type": "code",
   "execution_count": 2,
   "metadata": {},
   "outputs": [],
   "source": [
    "from agno.agent import Agent\n",
    "from agno.models.openai import OpenAIChat\n",
    "from agno.tools.reasoning import ReasoningTools\n",
    "\n",
    "email_writing_agent = Agent(\n",
    "    name=\"Email Writing Assistant\",\n",
    "    role=\"Compose professional, context-appropriate emails based on given inputs\",\n",
    "    model=OpenAIChat(\"gpt-4.1-nano\"),\n",
    "    tools=[ReasoningTools(add_instructions=True)],\n",
    "    instructions=[\n",
    "            \"\"\"\n",
    "    **Email Drafting Rules:**\n",
    "    1. **NEVER use placeholders** like `[Name]`, `[Your Position]`, or `[...]`.  \n",
    "       - If a detail is missing, **skip it entirely**.\n",
    "    2. **Signature must be short and fixed**:  \n",
    "       - Use **\"Thanks,\"** (if casual) or **\"Best regards,\"** (if formal).  \n",
    "       - **No name, title, or company** unless explicitly provided.\n",
    "    3. **Body must be complete**: No `[point 1]`, `[date]`, etc.\n",
    "    \"\"\"\n",
    "    ],\n",
    "    markdown=True # Since we want the actual email text, not JSON\n",
    ")"
   ]
  },
  {
   "cell_type": "code",
   "execution_count": null,
   "metadata": {},
   "outputs": [],
   "source": []
  },
  {
   "cell_type": "code",
   "execution_count": 3,
   "metadata": {},
   "outputs": [
    {
     "data": {
      "application/vnd.jupyter.widget-view+json": {
       "model_id": "96998169d9b74c49a933e07b48e63628",
       "version_major": 2,
       "version_minor": 0
      },
      "text/plain": [
       "Output()"
      ]
     },
     "metadata": {},
     "output_type": "display_data"
    },
    {
     "data": {
      "text/html": [
       "<pre style=\"white-space:pre;overflow-x:auto;line-height:normal;font-family:Menlo,'DejaVu Sans Mono',consolas,'Courier New',monospace\"></pre>\n"
      ],
      "text/plain": []
     },
     "metadata": {},
     "output_type": "display_data"
    }
   ],
   "source": [
    "response = email_writing_agent.run(\"\"\"  \n",
    "                                 Draft mail to : r2raviteja@gmail.com;\n",
    "                                    Successfully applied to position and attached Cover Letter. \n",
    "                                   \"\"\")\n",
    "email_writing_agent.print_response(response.content)"
   ]
  },
  {
   "cell_type": "code",
   "execution_count": 4,
   "metadata": {},
   "outputs": [
    {
     "name": "stdout",
     "output_type": "stream",
     "text": [
      "\n",
      "\n",
      "\u001b[1m> Entering new AgentExecutor chain...\u001b[0m\n",
      "\u001b[32;1m\u001b[1;3m\n",
      "Invoking: `GMAIL_SEND_EMAIL` with `{'attachment': 'CL.txt', 'body': 'Dear Raviteja,\\n\\nI am pleased to inform you that I have successfully applied for the position. Please find the job description attached for your reference.\\n\\nThank you for your support.\\n\\nThanks,', 'recipient_email': 'r2raviteja@gmail.com', 'subject': 'Application Submission and Job Description'}`\n",
      "\n",
      "\n",
      "\u001b[0m\u001b[36;1m\u001b[1;3m{'data': {'response_data': {'id': '196874c3047f6b73', 'labelIds': ['SENT'], 'threadId': '196874c3047f6b73'}}, 'error': None, 'successfull': True, 'successful': True}\u001b[0m\u001b[32;1m\u001b[1;3mThe email has been sent successfully to r2raviteja@gmail.com.\u001b[0m\n",
      "\n",
      "\u001b[1m> Finished chain.\u001b[0m\n",
      "{'input': ' mail to r2raviteja@gmail.com; attach file : CL.txt Subject: Application Submission and Job Description\\n\\nDear Raviteja,\\n\\nI am pleased to inform you that I have successfully applied for the position. Please find the job description attached for your reference.\\n\\nThank you for your support.\\n\\nThanks,', 'output': 'The email has been sent successfully to r2raviteja@gmail.com.'}\n"
     ]
    }
   ],
   "source": [
    "agent = create_openai_functions_agent(llm, tools, prompt)\n",
    "agent_executor = AgentExecutor(agent=agent, tools=tools, verbose=True)\n",
    "task = \" mail to r2raviteja@gmail.com; attach file : CL.txt \"+response.content\n",
    "\n",
    "result = agent_executor.invoke({\"input\": task})\n",
    "print(result)"
   ]
  },
  {
   "cell_type": "code",
   "execution_count": null,
   "metadata": {},
   "outputs": [],
   "source": []
  },
  {
   "cell_type": "code",
   "execution_count": 4,
   "metadata": {},
   "outputs": [],
   "source": [
    "from langchain.agents import create_openai_functions_agent, AgentExecutor\n",
    "from langchain import hub\n",
    "from langchain_openai import ChatOpenAI\n",
    "from composio_langchain import ComposioToolSet, Action, App\n",
    "llm = ChatOpenAI()\n",
    "prompt = hub.pull(\"hwchase17/openai-functions-agent\")\n",
    "\n",
    "composio_toolset = ComposioToolSet(api_key=\"kc73e496wa2vqwzthdtta\")\n",
    "tools = composio_toolset.get_tools(actions=['GMAIL_SEND_EMAIL'])\n",
    "\n",
    "import pandas as pd\n",
    "df = pd.read_csv(r\"JobsData.csv\")\n",
    "num_job = 3\n",
    "\n",
    "job_url = df[\"Apply_URL\"].iloc[num_job]\n",
    "with open(\"CL.docx\", \"w\", encoding=\"utf-8\") as f:\n",
    "    f.write(df[\"Coverletter\"].iloc[num_job])\n",
    "\n",
    "\n"
   ]
  },
  {
   "cell_type": "code",
   "execution_count": 9,
   "metadata": {},
   "outputs": [],
   "source": [
    "JD = df[\"Combined\"].iloc[num_job]"
   ]
  },
  {
   "cell_type": "code",
   "execution_count": 24,
   "metadata": {},
   "outputs": [
    {
     "data": {
      "application/vnd.jupyter.widget-view+json": {
       "model_id": "82cd6207884f4df5b4ecea8758c9d994",
       "version_major": 2,
       "version_minor": 0
      },
      "text/plain": [
       "Output()"
      ]
     },
     "metadata": {},
     "output_type": "display_data"
    },
    {
     "data": {
      "text/html": [
       "<pre style=\"white-space:pre;overflow-x:auto;line-height:normal;font-family:Menlo,'DejaVu Sans Mono',consolas,'Courier New',monospace\"></pre>\n"
      ],
      "text/plain": []
     },
     "metadata": {},
     "output_type": "display_data"
    }
   ],
   "source": [
    "from agno.agent import Agent\n",
    "from agno.models.openai import OpenAIChat\n",
    "from agno.tools.reasoning import ReasoningTools\n",
    "\n",
    "# Updated Recruiter Email Agent\n",
    "recruiter_email_agent = Agent(\n",
    "    name=\"Recruiter Email Agent\",\n",
    "    role=\"Compose a concise follow-up email to a recruiter after submitting job application.\",\n",
    "    model=OpenAIChat(\"gpt-4.1-nano\", temperature=0.3),\n",
    "    tools=[ReasoningTools(add_instructions=True)],\n",
    "    instructions=[\n",
    "        \"\"\"\n",
    "        **Strict Rules:**\n",
    "        1. NEVER use placeholders like [Name] or [Company]. Write generically if information is missing.\n",
    "        2. NEVER include bullet points, numbered lists, or markdown in the email body.\n",
    "        3. Keep the email to 2 short paragraphs maximum (3-4 sentences each).\n",
    "        4. Mention the cover letter ONLY in the closing section.\n",
    "\n",
    "        **Required Elements:**\n",
    "        - State you've applied for the position\n",
    "        - Highlight one specific qualification from the job description\n",
    "        - Reference the cover letter at the end before your signature\n",
    "\n",
    "        **Email Structure:**\n",
    "        - Subject Line: \"Follow-Up on [Job Title] Application\" (use actual title or \"the position\")\n",
    "        - Body:\n",
    "          * Paragraph 1: Confirm your application and express enthusiasm about one key requirement from the JD\n",
    "          * Paragraph 2: Offer additional value (portfolio/work sample if relevant) and invite discussion\n",
    "        - Closing: Mention cover letter, then professional sign-off\n",
    "\n",
    "        **Example Flow:**\n",
    "        \"I recently applied for [role] at [company]...\"\n",
    "        \"My experience in [JD requirement] makes me particularly excited about...\"\n",
    "        \"As detailed in my attached cover letter, I would bring [value]...\"\n",
    "        \"I'd welcome the opportunity to discuss...\"\n",
    "\n",
    "        **Style:**\n",
    "        - Professional but warm tone\n",
    "        - Focus on value you bring (not just features)\n",
    "        - Cover letter reference should be brief and natural\n",
    "\n",
    "        **Output Format:**\n",
    "        Return ONLY the complete email text ready to send:\n",
    "        \n",
    "        Subject: Follow-Up on [Job Title] Application\n",
    "        \n",
    "        Dear [Recruiter's Name or Hiring Team],\n",
    "        \n",
    "        [Paragraph 1: Application confirmation + 1 key qualification]\n",
    "        [Paragraph 2: Value add + call to action]\n",
    "        \n",
    "        As mentioned in my attached cover letter, [brief reinforcement]. \n",
    "        \n",
    "        Best regards,\n",
    "        [Your Name]\n",
    "        \"\"\"\n",
    "    ],\n",
    "    markdown=True\n",
    ")\n",
    "\n",
    "response = recruiter_email_agent.run(f\"{JD}\")\n",
    "recruiter_email_agent.print_response(response.content)"
   ]
  },
  {
   "cell_type": "code",
   "execution_count": 22,
   "metadata": {},
   "outputs": [
    {
     "name": "stdout",
     "output_type": "stream",
     "text": [
      "\n",
      "\n",
      "\u001b[1m> Entering new AgentExecutor chain...\u001b[0m\n",
      "\u001b[32;1m\u001b[1;3m\n",
      "Invoking: `GMAIL_SEND_EMAIL` with `{'attachment': 'CL.docx', 'body': 'Dear Hiring Team,\\n\\nI am excited about the opportunity to contribute to Goodparty.org as a Data Scientist, leveraging my expertise in Tableau dashboard development and data transformation to support your mission of empowering independents and transforming civic leadership. My experience aligns well with your needs for creating insightful, user-friendly dashboards that support organizational goals.\\n\\nI would be happy to share my portfolio or work samples demonstrating my skills in data visualization and dashboard design. Thank you for considering my application; I am available at your convenience for further discussion and look forward to the possibility of contributing to your impactful work.\\n\\nBest regards,\\nRaviteja', 'recipient_email': 'r2raviteja@gmail.com', 'subject': 'Follow-Up on Data Scientist Application'}`\n",
      "\n",
      "\n",
      "\u001b[0m\u001b[36;1m\u001b[1;3m{'data': {'response_data': {'id': '19694c29d602eb9e', 'labelIds': ['SENT'], 'threadId': '19694c29d602eb9e'}}, 'error': None, 'successfull': True, 'successful': True}\u001b[0m\u001b[32;1m\u001b[1;3mThe email has been successfully sent to r2raviteja@gmail.com with the attached file \"CL.docx\" and subject \"Follow-Up on Data Scientist Application\".\u001b[0m\n",
      "\n",
      "\u001b[1m> Finished chain.\u001b[0m\n",
      "{'input': ' mail to r2raviteja@gmail.com; attach file : CL.docx Subject: Follow-Up on Data Scientist Application\\n\\nDear Hiring Team,\\n\\nI am excited about the opportunity to contribute to Goodparty.org as a Data Scientist, leveraging my expertise in Tableau dashboard development and data transformation to support your mission of empowering independents and transforming civic leadership. My experience aligns well with your needs for creating insightful, user-friendly dashboards that support organizational goals.\\n\\nI would be happy to share my portfolio or work samples demonstrating my skills in data visualization and dashboard design. Thank you for considering my application; I am available at your convenience for further discussion and look forward to the possibility of contributing to your impactful work.\\n\\nBest regards,  \\nRaviteja', 'output': 'The email has been successfully sent to r2raviteja@gmail.com with the attached file \"CL.docx\" and subject \"Follow-Up on Data Scientist Application\".'}\n"
     ]
    }
   ],
   "source": [
    "agent = create_openai_functions_agent(llm, tools, prompt)\n",
    "agent_executor = AgentExecutor(agent=agent, tools=tools, verbose=True)\n",
    "task = \" mail to r2raviteja@gmail.com; attach file : CL.docx \"+response.content\n",
    "\n",
    "result = agent_executor.invoke({\"input\": task})\n",
    "print(result)"
   ]
  },
  {
   "cell_type": "code",
   "execution_count": null,
   "metadata": {},
   "outputs": [],
   "source": []
  }
 ],
 "metadata": {
  "kernelspec": {
   "display_name": "automation",
   "language": "python",
   "name": "python3"
  },
  "language_info": {
   "codemirror_mode": {
    "name": "ipython",
    "version": 3
   },
   "file_extension": ".py",
   "mimetype": "text/x-python",
   "name": "python",
   "nbconvert_exporter": "python",
   "pygments_lexer": "ipython3",
   "version": "3.13.2"
  }
 },
 "nbformat": 4,
 "nbformat_minor": 2
}
