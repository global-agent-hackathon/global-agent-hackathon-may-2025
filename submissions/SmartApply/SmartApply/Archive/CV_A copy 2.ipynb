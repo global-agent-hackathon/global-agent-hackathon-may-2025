{
 "cells": [
  {
   "cell_type": "code",
   "execution_count": 11,
   "metadata": {},
   "outputs": [],
   "source": [
    "import os\n",
    "import json\n",
    "from dotenv import load_dotenv, find_dotenv\n",
    "_ = load_dotenv(find_dotenv())\n",
    "openai_api_key = os.environ[\"OPENAI_API_KEY\"]\n",
    "OPENROUTER_API_KEY = os.environ[\"OPENROUTER_API_KEY\"]\n",
    "os.environ[\"GROQ_API_KEY\"]\n",
    "os.environ[\"OPENROUTER_API_KEY\"]\n",
    "from langchain_openai import ChatOpenAI\n",
    "from langchain_core.prompts import ChatPromptTemplate\n",
    "from langchain_community.document_loaders.csv_loader import CSVLoader\n",
    "from langchain_community.document_loaders import PyPDFLoader, TextLoader, Docx2txtLoader"
   ]
  },
  {
   "cell_type": "code",
   "execution_count": 52,
   "metadata": {},
   "outputs": [
    {
     "data": {
      "text/html": [
       "<pre style=\"white-space:pre;overflow-x:auto;line-height:normal;font-family:Menlo,'DejaVu Sans Mono',consolas,'Courier New',monospace\"><span style=\"color: #000080; text-decoration-color: #000080\">╭─────────────────────────────────────────────────────────────────────────────────────────────────────────────────╮</span>\n",
       "<span style=\"color: #000080; text-decoration-color: #000080\">│</span> As the clock struck midnight, a lone robot's eyes flickered to life, and it whispered, \"I remember.\"            <span style=\"color: #000080; text-decoration-color: #000080\">│</span>\n",
       "<span style=\"color: #000080; text-decoration-color: #000080\">╰─────────────────────────────────────────────────────────────────────────────────────────────────────────────────╯</span>\n",
       "</pre>\n"
      ],
      "text/plain": [
       "\u001b[34m╭─────────────────────────────────────────────────────────────────────────────────────────────────────────────────╮\u001b[0m\n",
       "\u001b[34m│\u001b[0m As the clock struck midnight, a lone robot's eyes flickered to life, and it whispered, \"I remember.\"            \u001b[34m│\u001b[0m\n",
       "\u001b[34m╰─────────────────────────────────────────────────────────────────────────────────────────────────────────────────╯\u001b[0m\n"
      ]
     },
     "metadata": {},
     "output_type": "display_data"
    }
   ],
   "source": [
    "from typing import Iterator\n",
    "from agno.agent import Agent, RunResponse\n",
    "from agno.models.openai import OpenAIChat\n",
    "from agno.utils.pprint import pprint_run_response\n",
    "\n",
    "agent = Agent(model=Groq(id=\"llama-3.3-70b-versatile\"))\n",
    "\n",
    "# Run agent and return the response as a variable\n",
    "response: RunResponse = agent.run(\"Tell me a 5 second short story about a robot\")\n",
    "# Run agent and return the response as a stream\n",
    "response_stream: Iterator[RunResponse] = agent.run(\"Tell me a 5 second short story about a lion\", stream=True)\n",
    "\n",
    "# Print the response in markdown format\n",
    "pprint_run_response(response, markdown=True)"
   ]
  },
  {
   "cell_type": "code",
   "execution_count": 87,
   "metadata": {},
   "outputs": [
    {
     "data": {
      "application/vnd.jupyter.widget-view+json": {
       "model_id": "0e8dc11b747b480a9bba90072870f87e",
       "version_major": 2,
       "version_minor": 0
      },
      "text/plain": [
       "Output()"
      ]
     },
     "metadata": {},
     "output_type": "display_data"
    },
    {
     "data": {
      "text/html": [
       "<pre style=\"white-space:pre;overflow-x:auto;line-height:normal;font-family:Menlo,'DejaVu Sans Mono',consolas,'Courier New',monospace\"></pre>\n"
      ],
      "text/plain": []
     },
     "metadata": {},
     "output_type": "display_data"
    }
   ],
   "source": [
    "from agno.agent import Agent\n",
    "from agno.models.openai import OpenAIChat\n",
    "from agno.team import Team\n",
    "from agno.tools.duckduckgo import DuckDuckGoTools\n",
    "\n",
    "# Create individual specialized agents\n",
    "researcher = Agent(\n",
    "    name=\"Researcher\",\n",
    "    role=\"Expert at finding information\",\n",
    "    tools=[DuckDuckGoTools()],\n",
    "    model=OpenAIChat(\"gpt-4.1-nano\"),\n",
    "    #debug_mode=True\n",
    ")\n",
    "\n",
    "writer = Agent(\n",
    "    name=\"Writer\",\n",
    "    role=\"Expert at writing clear, engaging content\",\n",
    "    model=OpenAIChat(\"gpt-4.1-nano\"),\n",
    "    #debug_mode=True\n",
    ")\n",
    "\n",
    "# Create a team with these agents\n",
    "content_team = Team(\n",
    "    name=\"Content Team\",\n",
    "    mode=\"coordinate\",\n",
    "    members=[researcher, writer],\n",
    "    instructions=\"You are a team of researchers and writers that work together to create high-quality content.\",\n",
    "    model=OpenAIChat(\"gpt-4.1-nano\"),\n",
    "    markdown=True,\n",
    ")\n",
    "\n",
    "content_team.print_response(\"Create a short article about data  science in 2 lines after doing research\")"
   ]
  },
  {
   "cell_type": "code",
   "execution_count": 88,
   "metadata": {},
   "outputs": [
    {
     "data": {
      "application/vnd.jupyter.widget-view+json": {
       "model_id": "ff30845da83648b69652425bb5c5fa45",
       "version_major": 2,
       "version_minor": 0
      },
      "text/plain": [
       "Output()"
      ]
     },
     "metadata": {},
     "output_type": "display_data"
    },
    {
     "data": {
      "text/html": [
       "<pre style=\"white-space:pre;overflow-x:auto;line-height:normal;font-family:Menlo,'DejaVu Sans Mono',consolas,'Courier New',monospace\"></pre>\n"
      ],
      "text/plain": []
     },
     "metadata": {},
     "output_type": "display_data"
    }
   ],
   "source": [
    "response = content_team.run(\"Create a short article about data  science in 2 lines after doing research\")\n",
    "content_team.print_response(response.content)"
   ]
  },
  {
   "cell_type": "code",
   "execution_count": null,
   "metadata": {},
   "outputs": [],
   "source": []
  },
  {
   "cell_type": "code",
   "execution_count": 89,
   "metadata": {},
   "outputs": [
    {
     "data": {
      "application/vnd.jupyter.widget-view+json": {
       "model_id": "a00fd12427b24f95ae0b5cd42f194443",
       "version_major": 2,
       "version_minor": 0
      },
      "text/plain": [
       "Output()"
      ]
     },
     "metadata": {},
     "output_type": "display_data"
    },
    {
     "data": {
      "text/html": [
       "<pre style=\"white-space:pre;overflow-x:auto;line-height:normal;font-family:Menlo,'DejaVu Sans Mono',consolas,'Courier New',monospace\"></pre>\n"
      ],
      "text/plain": []
     },
     "metadata": {},
     "output_type": "display_data"
    }
   ],
   "source": [
    "from agno.agent import Agent, RunResponse\n",
    "from agno.models.groq import Groq\n",
    "from fpdf import FPDF\n",
    "\n",
    "# Initialize agent\n",
    "agent = Agent(\n",
    "    model=Groq(id=\"llama-3.3-70b-versatile\"),\n",
    "    markdown=True\n",
    ")\n",
    "\n",
    "# Get response\n",
    "response = agent.run(\"Tell me a joke\")\n",
    "\n",
    "# Print response\n",
    "agent.print_response(response.content)\n"
   ]
  },
  {
   "cell_type": "code",
   "execution_count": 90,
   "metadata": {},
   "outputs": [
    {
     "name": "stdout",
     "output_type": "stream",
     "text": [
      "Raviteja R\n",
      "Senior Product Data Analyst, \n",
      "Certified Data Scientist\n",
      "r2raviteja@gmail.com\n",
      " \n",
      "+49 15216 442399\n",
      " \n",
      "Munich, Germany\n",
      " \n",
      "rraviteja\n",
      " \n",
      "Profile  with 5 years of experience in \n",
      "analytics, A/B testing and KPI optimization. \n",
      "Proficient in building scalable dashboards \n",
      "and machine learning models to drive \n",
      "business impact. Available for immediate \n",
      "joining.\n",
      "Education\n",
      "Masters in Business Analytics & Data \n",
      "Science, EU Business School\n",
      "March 2023 – March 2025    \n",
      "Munich, Germany\n",
      "GPA : 1,6/4 (German Scale,  1 = Highest)\n",
      "Post Graduate Diploma in Data Science, \n",
      "IIIT Bangalore\n",
      "April 2019 – September 2020\n",
      "GPA - 3.2/4 (U.S Scale, with 4 = Highest)\n",
      "Bachelor of Technology (ECE) | \n",
      "Specialization in Data Science, \n",
      "Lovely Professional University\n",
      "June 2015 – April 2019\n",
      "GPA : 7.76/10 (with 10 = Highest)\n",
      "Projects\n",
      "Thesis: AI-Driven Interview Bot\n",
      "Developed an AI-powered interview bot \n",
      "leveraging Generative AI, Langchain, RAG \n",
      "and NLP, reducing early-stage interviewer \n",
      "workload by 60% and increasing candidate \n",
      "satisfaction by 16%.\n",
      "Data Scientist - case study\n",
      "Developed a Logistic Regression model \n",
      "(83% precision, 81% recall, 80% F1-score) \n",
      "to predict high-traffic recipes, boosting user \n",
      "engagement and traffic by 15% through \n",
      "personalized meal plans and targeted \n",
      "content.\n",
      "Skills\n",
      "Programming\n",
      "Python, SQL, ML, NLP\n",
      "Data Analysis\n",
      "A/B Testing, Statistics, Pandas, EDA, SKlearn, Excel\n",
      "Visualization\n",
      "PowerBi, Metabase, Tableau, Streamlit\n",
      "GenAI & Other\n",
      "LLMs, AI Agents, Chatbots, RAG, LangChain, LangGraph, LLMOps, \n",
      "AWS, Git, Jira, Salesforce\n",
      "Professional Experience\n",
      "Data Analyst (werkstudent), ALLIANZ PARTNERS\n",
      "November 2023 – present | Munich, Germany\n",
      "•Developed Power BI dashboards for C-level executives across \n",
      "119 business units, LOBs, optimizing insights into a $2.8B \n",
      "contract portfolio. Automated reporting processes, reducing \n",
      "manual Excel workload by 60%.\n",
      "•Developed Python scripts to process unstructured Salesforce and \n",
      "finance data, optimizing data load time and efficiency.\n",
      "Senior Product Data Analyst in Customer Experience, RAPIDO\n",
      "April 2021 – February 2023 | Bangalore, India\n",
      "•Increased key KPI's: Rides per Customer (RPC) by 5% and \n",
      "Customer Satisfaction Score (CSAT) by 22%.\n",
      "•Designed and executed A/B test experiments on Scratch Card, \n",
      "drop suggestions, Home Favorite and single-click booking and \n",
      "built dashboards using SQL & Metabase.\n",
      "•Consolidated 15 event-level datasets into a master dataset, \n",
      "reducing week on week dashboard load times from 15 minutes to \n",
      "under 30 seconds.\n",
      "•Performed NLP-driven sentiment analysis on customer feedback, \n",
      "increasing CSAT from 2.8 to 3.9 and boosting cashless payment \n",
      "adoption by 8%.\n",
      "•Specialized in product analytics, leveraging funnel conversion \n",
      "tracking, user retention analysis, UTM tracking, affiliate marketing \n",
      "platforms, and digital ad performance (CTR, CPC, CPA).\n",
      "Associate Software Engineer, TCS & Ucodesoft Solutions\n",
      "February 2019 – March 2021 | India\n",
      "Ucodesoft - Developed a user-friendly frontend website for a \n",
      "restaurant using html, css, php, JavaScript. enhancing online \n",
      "customer experience with features such as online menus and \n",
      "reservations.\n",
      "TCS - Automated AWS VDI control using Python, reducing manual \n",
      "effort by 60%.\n",
      "Developed a real-time hand detection system for Unilever with \n",
      "90% accuracy, enabling automated machine shutdowns to prevent \n",
      "factory injuries.\n",
      "Certificates AND Languages\n",
      "Certified Data Scientist, Datacamp\n",
      "Languages\n",
      "English and Telugu\n",
      "German\n"
     ]
    }
   ],
   "source": [
    "def load_file(file_path: str):\n",
    "    \"\"\"\n",
    "    Load content from a PDF, Word, or text file.\n",
    "    \"\"\"\n",
    "    if file_path.endswith(\".pdf\"):\n",
    "        loader = PyPDFLoader(file_path)\n",
    "    elif file_path.endswith(\".txt\"):\n",
    "        loader = TextLoader(file_path)\n",
    "    else:\n",
    "        raise ValueError(\"Unsupported file format. Please provide a .pdf, .docx, or .txt file.\")\n",
    "    documents = loader.load()\n",
    "    return documents#\"\\n\".join([doc.page_content for doc in documents])\n",
    "\n",
    "\n",
    "# Paths to the job description and resume files\n",
    "jd = \"JD.txt\"  # Replace with your file path\n",
    "cv = \"CV.pdf\"  # Replace with your file path\n",
    "\n",
    "def load_cv_jd(jd1= None, cv1= None):\n",
    "\n",
    "    # Load the files\n",
    "    try:\n",
    "        job_description = load_file(jd1)\n",
    "        resume1 = load_file(cv1)\n",
    "        \n",
    "        rjd = \"\\n\".join([doc.page_content for doc in job_description])\n",
    "        rcv = \"\\n\".join([doc.page_content for doc in resume1])\n",
    "        return rjd, rcv\n",
    "        \n",
    "    except Exception as e:\n",
    "        print(f\"An error occurred: {e}\")\n",
    "    \n",
    "JD, CV = load_cv_jd(jd,cv)\n",
    "print(CV)"
   ]
  },
  {
   "cell_type": "code",
   "execution_count": 93,
   "metadata": {},
   "outputs": [],
   "source": [
    "data_extractor_agent = Agent(\n",
    "    name=\"Data Extractor\",\n",
    "    role=\"Extract and structure personal information from unstructured text\",\n",
    "    model=OpenAIChat(\"gpt-4.1-nano\"),\n",
    "    #tools=[ReasoningTools(add_instructions=True)],\n",
    "    instructions=[\n",
    "        \"Extract specific fields from unstructured text input\",\n",
    "        \"Identify and separate different data points\",\n",
    "        \"Handle missing values (marked with '-') appropriately\",\n",
    "        \"Return data in a structured dictionary format\",\n",
    "        \"Verify extracted data for accuracy\",\n",
    "        \"Handle both single-line and multi-line fields\",\n",
    "        \"Preserve original formatting of URLs and special characters\",\n",
    "        \"Convert empty fields to None or appropriate null representation\"\n",
    "    ],\n",
    "    markdown=True,\n",
    ")"
   ]
  },
  {
   "cell_type": "code",
   "execution_count": 97,
   "metadata": {},
   "outputs": [
    {
     "data": {
      "application/vnd.jupyter.widget-view+json": {
       "model_id": "e2f94213a62a462db195b12d5fc893b2",
       "version_major": 2,
       "version_minor": 0
      },
      "text/plain": [
       "Output()"
      ]
     },
     "metadata": {},
     "output_type": "display_data"
    },
    {
     "data": {
      "text/html": [
       "<pre style=\"white-space:pre;overflow-x:auto;line-height:normal;font-family:Menlo,'DejaVu Sans Mono',consolas,'Courier New',monospace\"></pre>\n"
      ],
      "text/plain": []
     },
     "metadata": {},
     "output_type": "display_data"
    }
   ],
   "source": [
    "query = \"\"\"\n",
    "    Extract the following fields from the resume below and return as JSON:\n",
    "    - Email\n",
    "    - password\n",
    "    - First name\n",
    "    - middle name (return None if '-')\n",
    "    - Last name\n",
    "    - Phone number\n",
    "    - Language\n",
    "    - Secondary Phone (return None if '-')\n",
    "    - Street Address\n",
    "    - City\n",
    "    - State\n",
    "    - Zip / Postal Code\n",
    "    - Country\n",
    "    - LinkedIn profile\n",
    "    \n",
    "    Example Input:\n",
    "    Email abc@gmail.com\n",
    "    default password = Asdfgh1234567@\n",
    "    middle name -\n",
    "    \n",
    "    Example Output:\n",
    "    {\n",
    "        \"Email\": \"abc@gmail.com\",\n",
    "        \"password\": \"Asdfgh1234567@\",\n",
    "        \"middle name\": null\n",
    "    }\n",
    "\n",
    "    Resume to process:\n",
    "    \"\"\"+ CV\n",
    "response = data_extractor_agent.run(query)\n",
    "data_extractor_agent.print_response(response.content)"
   ]
  },
  {
   "cell_type": "code",
   "execution_count": 114,
   "metadata": {},
   "outputs": [
    {
     "data": {
      "text/plain": [
       "{'Email': 'r2raviteja@gmail.com',\n",
       " 'password': None,\n",
       " 'First name': 'Raviteja',\n",
       " 'middle name': None,\n",
       " 'Last name': 'R',\n",
       " 'Phone number': '+49 15216 442399',\n",
       " 'Language': ['English', 'Telugu', 'German'],\n",
       " 'Secondary Phone': None,\n",
       " 'Street Address': None,\n",
       " 'City': 'Munich',\n",
       " 'State': 'Germany',\n",
       " 'Zip / Postal Code': None,\n",
       " 'Country': None,\n",
       " 'LinkedIn profile': None}"
      ]
     },
     "execution_count": 114,
     "metadata": {},
     "output_type": "execute_result"
    }
   ],
   "source": [
    "content_json = json.loads(response.content) \n",
    "content_json"
   ]
  },
  {
   "cell_type": "code",
   "execution_count": 113,
   "metadata": {},
   "outputs": [
    {
     "name": "stdout",
     "output_type": "stream",
     "text": [
      "JSON content has been written to user.txt\n"
     ]
    }
   ],
   "source": [
    "\n",
    "content_json = json.loads(response.content) # {\"key\": \"value\"}  # Example content\n",
    "\n",
    "# Specify the file path where you want to save the JSON\n",
    "file_path = \"user.txt\"\n",
    "\n",
    "# Write the JSON content to the text file\n",
    "with open(file_path, 'w', encoding='utf-8') as file:\n",
    "    json.dump(content_json, file, indent=4)  # indent for pretty formatting\n",
    "\n",
    "print(f\"JSON content has been written to {file_path}\")"
   ]
  },
  {
   "cell_type": "code",
   "execution_count": null,
   "metadata": {},
   "outputs": [],
   "source": []
  },
  {
   "cell_type": "code",
   "execution_count": null,
   "metadata": {},
   "outputs": [],
   "source": []
  },
  {
   "cell_type": "code",
   "execution_count": 106,
   "metadata": {},
   "outputs": [
    {
     "name": "stdout",
     "output_type": "stream",
     "text": [
      "\n",
      "Stored User Memories for r2raviteja@gmail.com:\n",
      "\n",
      "Memory: Language: ['English', 'Telugu', 'German']\n",
      "Topics: ['user_profile', 'language']\n",
      "Last Updated: 2025-04-26 21:48:10.070535\n",
      "\n",
      "Memory: City: Munich\n",
      "Topics: ['user_profile', 'city']\n",
      "Last Updated: 2025-04-26 21:48:10.427322\n",
      "\n",
      "Memory: State: Germany\n",
      "Topics: ['user_profile', 'state']\n",
      "Last Updated: 2025-04-26 21:48:10.619538\n",
      "\n",
      "Memory: Email: r2raviteja@gmail.com\n",
      "Topics: ['user_profile', 'email']\n",
      "Last Updated: 2025-04-26 21:48:09.196154\n",
      "\n",
      "Memory: First name: Raviteja\n",
      "Topics: ['user_profile', 'first_name']\n",
      "Last Updated: 2025-04-26 21:48:09.583640\n",
      "\n",
      "Memory: Last name: R\n",
      "Topics: ['user_profile', 'last_name']\n",
      "Last Updated: 2025-04-26 21:48:09.719617\n",
      "\n",
      "Memory: Phone number: +49 15216 442399\n",
      "Topics: ['user_profile', 'phone_number']\n",
      "Last Updated: 2025-04-26 21:48:09.860890\n",
      "\n",
      "Memory: City: Munich\n",
      "Topics: ['user_profile', 'city']\n",
      "Last Updated: 2025-04-26 21:44:04.121926\n",
      "\n",
      "Memory: State: Germany\n",
      "Topics: ['user_profile', 'state']\n",
      "Last Updated: 2025-04-26 21:44:04.290504\n",
      "\n",
      "Memory: Email: r2raviteja@gmail.com\n",
      "Topics: ['user_profile', 'email']\n",
      "Last Updated: 2025-04-26 21:44:03.120623\n",
      "\n",
      "Memory: First name: Raviteja\n",
      "Topics: ['user_profile', 'first_name']\n",
      "Last Updated: 2025-04-26 21:44:03.387618\n",
      "\n",
      "Memory: Last name: R\n",
      "Topics: ['user_profile', 'last_name']\n",
      "Last Updated: 2025-04-26 21:44:03.605086\n",
      "\n",
      "Memory: Phone number: +49 15216 442399\n",
      "Topics: ['user_profile', 'phone_number']\n",
      "Last Updated: 2025-04-26 21:44:03.771968\n",
      "\n",
      "Memory: Language: ['English', 'Telugu', 'German']\n",
      "Topics: ['user_profile', 'language']\n",
      "Last Updated: 2025-04-26 21:44:03.953014\n",
      "\n",
      "Memory: Email: r2raviteja@gmail.com\n",
      "Topics: ['user_profile', 'email']\n",
      "Last Updated: 2025-04-26 21:38:41.352748\n",
      "\n",
      "Memory: First name: Raviteja\n",
      "Topics: ['user_profile', 'first_name']\n",
      "Last Updated: 2025-04-26 21:38:41.692393\n",
      "\n",
      "Retrieved specific values:\n",
      "Phone number: +49 15216 442399\n",
      "First name: Raviteja\n",
      "\n",
      "All user values:\n",
      "Language: ['English', 'Telugu', 'German']\n",
      "City: Munich\n",
      "State: Germany\n",
      "Email: r2raviteja@gmail.com\n",
      "First name: Raviteja\n",
      "Last name: R\n",
      "Phone number: +49 15216 442399\n"
     ]
    }
   ],
   "source": [
    "import json\n",
    "from agno.memory.v2.memory import Memory\n",
    "from agno.memory.v2.db.sqlite import SqliteMemoryDb\n",
    "from agno.memory.v2.schema import UserMemory\n",
    "\n",
    "def get_memory_db():\n",
    "    \"\"\"Create and return a memory database instance\"\"\"\n",
    "    return SqliteMemoryDb(\n",
    "        table_name=\"user_data\",\n",
    "        db_file=\"storage/user_memory.db\"\n",
    "    )\n",
    "\n",
    "def get_user_value(user_id, field_name):\n",
    "    \"\"\"\n",
    "    Retrieve a specific field value for a user\n",
    "    Args:\n",
    "        user_id (str): The user's ID (email)\n",
    "        field_name (str): The field name to retrieve (e.g., \"First name\", \"Phone number\")\n",
    "    Returns:\n",
    "        str: The value if found, None otherwise\n",
    "    \"\"\"\n",
    "    memory_db = get_memory_db()\n",
    "    memory = Memory(db=memory_db)\n",
    "    \n",
    "    # Get all memories for the user\n",
    "    user_memories = memory.get_user_memories(user_id=user_id)\n",
    "    \n",
    "    # Search for the specific field\n",
    "    for m in user_memories:\n",
    "        if m.memory.startswith(f\"{field_name}:\"):\n",
    "            # Extract the value part after the colon and strip whitespace\n",
    "            return m.memory.split(\":\", 1)[1].strip()\n",
    "    \n",
    "    return None\n",
    "\n",
    "def get_all_user_values(user_id):\n",
    "    \"\"\"\n",
    "    Retrieve all stored values for a user as a dictionary\n",
    "    Args:\n",
    "        user_id (str): The user's ID (email)\n",
    "    Returns:\n",
    "        dict: Dictionary of field names and their values\n",
    "    \"\"\"\n",
    "    memory_db = get_memory_db()\n",
    "    memory = Memory(db=memory_db)\n",
    "    \n",
    "    user_values = {}\n",
    "    user_memories = memory.get_user_memories(user_id=user_id)\n",
    "    \n",
    "    for m in user_memories:\n",
    "        # Split memory string into field name and value\n",
    "        if \":\" in m.memory:\n",
    "            field, value = m.memory.split(\":\", 1)\n",
    "            user_values[field.strip()] = value.strip()\n",
    "    \n",
    "    return user_values\n",
    "\n",
    "def store_user_data(user_content):\n",
    "    \"\"\"\n",
    "    Store user data from JSON content into the memory database\n",
    "    Args:\n",
    "        user_content (str): JSON string containing user data\n",
    "    \"\"\"\n",
    "    try:\n",
    "        # Parse JSON if it's a string\n",
    "        if isinstance(user_content, str):\n",
    "            user_data = json.loads(user_content)\n",
    "        else:\n",
    "            user_data = user_content\n",
    "\n",
    "        # Create a SQLite memory database\n",
    "        memory_db = get_memory_db()\n",
    "\n",
    "        # Initialize Memory with the storage backend\n",
    "        memory = Memory(db=memory_db)\n",
    "\n",
    "        # Use email as user_id if available, otherwise use a default\n",
    "        user_id = user_data.get(\"Email\", user_data.get(\"email\", \"default_user\"))\n",
    "\n",
    "        # Store each piece of user information as a separate memory\n",
    "        for key, value in user_data.items():\n",
    "            if value is not None:  # Only store non-null values\n",
    "                # Clean the key for topic (remove special characters, lowercase)\n",
    "                topic = key.lower().replace(\" \", \"_\").replace(\",\", \"\").replace(\".\", \"\")\n",
    "                \n",
    "                memory.add_user_memory(\n",
    "                    memory=UserMemory(\n",
    "                        memory=f\"{key}: {value}\",\n",
    "                        topics=[\"user_profile\", topic]\n",
    "                    ),\n",
    "                    user_id=user_id\n",
    "                )\n",
    "\n",
    "        # Retrieve and display the stored memories\n",
    "        print(f\"\\nStored User Memories for {user_id}:\")\n",
    "        user_memories = memory.get_user_memories(user_id=user_id)\n",
    "        for m in user_memories:\n",
    "            print(f\"\\nMemory: {m.memory}\")\n",
    "            print(f\"Topics: {m.topics}\")\n",
    "            print(f\"Last Updated: {m.last_updated}\")\n",
    "\n",
    "        return user_id  # Return user_id for further operations\n",
    "\n",
    "    except json.JSONDecodeError as e:\n",
    "        print(f\"Error decoding JSON: {e}\")\n",
    "        return None\n",
    "    except Exception as e:\n",
    "        print(f\"Error storing user data: {e}\")\n",
    "        return None\n",
    "\n",
    "if __name__ == \"__main__\":\n",
    "    # Example usage with user_content variable\n",
    "    user_content = '''\n",
    "    {\n",
    "        \"Email\": \"r2raviteja@gmail.com\",\n",
    "        \"password\": null,\n",
    "        \"First name\": \"Raviteja\",\n",
    "        \"Phone number\": \"+49 15216 442399\"\n",
    "    }\n",
    "    '''\n",
    "    # Store the data\n",
    "    user_id = store_user_data(content_json)\n",
    "    \n",
    "    if user_id:\n",
    "        # Example: Get a specific value\n",
    "        phone = get_user_value(user_id, \"Phone number\")\n",
    "        first_name = get_user_value(user_id, \"First name\")\n",
    "        print(\"\\nRetrieved specific values:\")\n",
    "        print(f\"Phone number: {phone}\")\n",
    "        print(f\"First name: {first_name}\")\n",
    "        \n",
    "        # Example: Get all values\n",
    "        print(\"\\nAll user values:\")\n",
    "        all_values = get_all_user_values(user_id)\n",
    "        for field, value in all_values.items():\n",
    "            print(f\"{field}: {value}\") "
   ]
  },
  {
   "cell_type": "code",
   "execution_count": 109,
   "metadata": {},
   "outputs": [
    {
     "name": "stdout",
     "output_type": "stream",
     "text": [
      "\n",
      "All user values:\n",
      "Language: ['English', 'Telugu', 'German']\n",
      "City: Munich\n",
      "State: Germany\n",
      "Email: r2raviteja@gmail.com\n",
      "First name: Raviteja\n",
      "Last name: R\n",
      "Phone number: +49 15216 442399\n"
     ]
    }
   ],
   "source": [
    "if user_id:\n",
    "    # Example: Get a specific value\n",
    "    #phone = get_user_value(user_id, \"Phone number\")\n",
    "    #first_name = get_user_value(user_id, \"First name\")\n",
    "    #print(\"\\nRetrieved specific values:\")\n",
    "    #print(f\"Phone number: {phone}\")\n",
    "    #print(f\"First name: {first_name}\")\n",
    "    \n",
    "    # Example: Get all values\n",
    "    print(\"\\nAll user values:\")\n",
    "    all_values = get_all_user_values(user_id)\n",
    "    for field, value in all_values.items():\n",
    "        print(f\"{field}: {value}\") "
   ]
  },
  {
   "cell_type": "code",
   "execution_count": null,
   "metadata": {},
   "outputs": [],
   "source": []
  },
  {
   "cell_type": "code",
   "execution_count": 41,
   "metadata": {},
   "outputs": [],
   "source": [
    "from agno.agent import Agent\n",
    "from agno.models.openai import OpenAIChat\n",
    "from agno.tools.reasoning import ReasoningTools\n",
    "\n",
    "# Cover Letter Writer Agent\n",
    "cover_letter_agent = Agent(\n",
    "    name=\"Cover Letter Writer\",\n",
    "    role=\"Write professional and compelling cover letters\",\n",
    "    model=OpenAIChat(id=\"gpt-4.1-nano\"),\n",
    "    tools=[ReasoningTools(add_instructions=True)],\n",
    "    instructions=[\n",
    "        \"Write professional and compelling cover letters\",\n",
    "        \"Use formal business letter format\",\n",
    "        \"Create engaging opening paragraphs\",\n",
    "        \"Match qualifications with job requirements\",\n",
    "        \"Include specific examples and achievements\",\n",
    "        \"Maintain professional tone\",\n",
    "        \"Keep content concise and impactful\",\n",
    "        \"End with clear call to action\"\n",
    "    ],\n",
    "    markdown=True\n",
    ")\n",
    "\n",
    "def generate_cover_letter(resume_text: str, job_description: str, applicant_info: dict, company_info: dict) -> str:\n",
    "    \"\"\"\n",
    "    Generate a cover letter using the agent\n",
    "    \n",
    "    Args:\n",
    "        resume_text: Full text of the resume/CV\n",
    "        job_description: Full job description\n",
    "        applicant_info: Dictionary with applicant's contact details\n",
    "        company_info: Dictionary with company and position details\n",
    "    \n",
    "    Returns:\n",
    "        str: The final cover letter\n",
    "    \"\"\"\n",
    "    task = f\"\"\"\n",
    "    Generate a professional cover letter with the following inputs:\n",
    "\n",
    "    RESUME:\n",
    "    {resume_text}\n",
    "\n",
    "    JOB DESCRIPTION:\n",
    "    {job_description}\n",
    "\n",
    "    APPLICANT INFORMATION:\n",
    "    {applicant_info}\n",
    "\n",
    "    COMPANY INFORMATION:\n",
    "    {company_info}\n",
    "    \"\"\"\n",
    "    o1 =  cover_letter_agent.run(task)\n",
    "    return o1\n",
    "\n",
    "if __name__ == \"__main__\":\n",
    "    # Example usage\n",
    "    resume = \"\"\"[Your resume text here]\"\"\"\n",
    "    job_desc = \"\"\"[Job description text here]\"\"\"\n",
    "    applicant = {\n",
    "        \"name\": \"John Doe\",\n",
    "        \"email\": \"john@example.com\",\n",
    "        \"phone\": \"(555) 123-4567\",\n",
    "        \"linkedin\": \"linkedin.com/in/johndoe\"\n",
    "    }\n",
    "    company = {\n",
    "        \"name\": \"Tech Corp\",\n",
    "        \"hiring_manager\": \"Jane Smith\",\n",
    "        \"position\": \"Senior Software Engineer\"\n",
    "    }\n",
    "    \n",
    "    # Generate and print cover letter\n",
    "    cover_letter = generate_cover_letter(CV, JD, applicant, company)\n",
    "     "
   ]
  },
  {
   "cell_type": "code",
   "execution_count": 44,
   "metadata": {},
   "outputs": [
    {
     "name": "stdout",
     "output_type": "stream",
     "text": [
      "[Your Name]  \n",
      "[Your Address]  \n",
      "Munich, Germany  \n",
      "r2raviteja@gmail.com | +49 15216 442399  \n",
      "  \n",
      "[Date]  \n",
      "  \n",
      "Jane Smith  \n",
      "Blacklane  \n",
      "[Company Address]  \n",
      "  \n",
      "Dear Ms. Smith,  \n",
      "  \n",
      "I am writing to express my keen interest in the Senior Data Analyst position at Blacklane. With over five years of comprehensive experience in analytics, dashboard development, and driving strategic business insights, I am confident in my ability to contribute effectively to your data initiatives. My background in developing scalable dashboards, performing advanced statistical analyses, and collaborating across cross-functional teams aligns well with Blacklane’s mission to leverage data for impactful decision-making.  \n",
      "  \n",
      "Throughout my career, I have successfully designed and implemented data solutions that enhance operational efficiency and business growth. At Allianz Partners, I developed Power BI dashboards for executive-level insights across 119 business units, automating reports that reduced manual workload by 60%. My experience in SQL, NLP, and data modeling with tools such as dbt has enabled me to transform raw data into actionable insights, supporting strategic initiatives. Additionally, my work with machine learning models and NLP-driven sentiment analysis has consistently improved key metrics and customer satisfaction scores.  \n",
      "  \n",
      "I am particularly excited about Blacklane’s commitment to continuous learning and sustainability. My proficiency in data visualization tools such as Power BI, Tableau, and Streamlit, combined with my experience in statistical modeling and predictive analytics, positions me well to drive your data projects forward. I am eager to bring my analytical skills and passion for data-driven decision-making to your team and help shape the strategic direction of your enterprise.  \n",
      "  \n",
      "I welcome the opportunity to discuss how my background, skills, and enthusiasm can contribute to Blacklane’s ongoing success. I am available for an interview at your convenience and look forward to the possibility of joining your innovative team. Thank you for considering my application.  \n",
      "  \n",
      "Sincerely,  \n",
      "  \n",
      "Raviteja R\n"
     ]
    }
   ],
   "source": [
    "print(cover_letter.content)"
   ]
  },
  {
   "cell_type": "code",
   "execution_count": 48,
   "metadata": {},
   "outputs": [],
   "source": [
    "def save_to_word(content: str, filename: str = \"cover_letter.docx\"):\n",
    "    \"\"\"Save content to a Word document\"\"\"\n",
    "    doc = Document()\n",
    "    for paragraph in content.split('\\n\\n'):\n",
    "        if paragraph.strip():\n",
    "            doc.add_paragraph(paragraph.strip())\n",
    "    doc.save(filename)\n",
    "save_to_word(cover_letter.content)"
   ]
  },
  {
   "cell_type": "code",
   "execution_count": 47,
   "metadata": {},
   "outputs": [],
   "source": [
    "with open(\"test.txt\", 'w', encoding='utf-8') as f:\n",
    "        f.write(cover_letter.content)"
   ]
  },
  {
   "cell_type": "code",
   "execution_count": null,
   "metadata": {},
   "outputs": [],
   "source": []
  },
  {
   "cell_type": "code",
   "execution_count": 20,
   "metadata": {},
   "outputs": [
    {
     "data": {
      "text/html": [
       "<pre style=\"white-space:pre;overflow-x:auto;line-height:normal;font-family:Menlo,'DejaVu Sans Mono',consolas,'Courier New',monospace\"><span style=\"color: #808000; text-decoration-color: #808000\">WARNING </span> Could not run function <span style=\"color: #800080; text-decoration-color: #800080; font-weight: bold\">think</span><span style=\"font-weight: bold\">(</span><span style=\"color: #808000; text-decoration-color: #808000\">...</span><span style=\"font-weight: bold\">)</span>                                                                         \n",
       "</pre>\n"
      ],
      "text/plain": [
       "\u001b[33mWARNING \u001b[0m Could not run function \u001b[1;35mthink\u001b[0m\u001b[1m(\u001b[0m\u001b[33m...\u001b[0m\u001b[1m)\u001b[0m                                                                         \n"
      ]
     },
     "metadata": {},
     "output_type": "display_data"
    },
    {
     "data": {
      "text/html": [
       "<pre style=\"white-space:pre;overflow-x:auto;line-height:normal;font-family:Menlo,'DejaVu Sans Mono',consolas,'Courier New',monospace\"><span style=\"color: #800000; text-decoration-color: #800000; font-weight: bold\">ERROR   </span> <span style=\"color: #008080; text-decoration-color: #008080; font-weight: bold\">1</span> validation error for ReasoningTools.think                                                               \n",
       "         parameters                                                                                                \n",
       "           Unexpected keyword argument <span style=\"font-weight: bold\">[</span><span style=\"color: #808000; text-decoration-color: #808000\">type</span>=<span style=\"color: #800080; text-decoration-color: #800080\">unexpected_keyword_argument</span>, <span style=\"color: #808000; text-decoration-color: #808000\">input_value</span>=<span style=\"font-weight: bold\">{</span><span style=\"color: #008000; text-decoration-color: #008000\">'tool_uses'</span>:                \n",
       "         <span style=\"font-weight: bold\">[{</span><span style=\"color: #008000; text-decoration-color: #008000\">'recipien...\", '</span>confidence': <span style=\"color: #008080; text-decoration-color: #008080; font-weight: bold\">0.9</span><span style=\"font-weight: bold\">}}]}</span>, <span style=\"color: #808000; text-decoration-color: #808000\">input_type</span>=<span style=\"color: #800080; text-decoration-color: #800080\">dict</span><span style=\"font-weight: bold\">]</span>                                                  \n",
       "             For further information visit <span style=\"color: #0000ff; text-decoration-color: #0000ff; text-decoration: underline\">https://errors.pydantic.dev/2.11/v/unexpected_keyword_argument</span>          \n",
       "         Traceback <span style=\"font-weight: bold\">(</span>most recent call last<span style=\"font-weight: bold\">)</span>:                                                                        \n",
       "           File <span style=\"color: #008000; text-decoration-color: #008000\">\"c:\\Users\\960ra\\anaconda3\\envs\\ChatPdf\\lib\\site-packages\\agno\\tools\\function.py\"</span>, line <span style=\"color: #008080; text-decoration-color: #008080; font-weight: bold\">554</span>, in     \n",
       "         execute                                                                                                   \n",
       "             result = <span style=\"color: #800080; text-decoration-color: #800080; font-weight: bold\">self.function.entrypoint</span><span style=\"font-weight: bold\">(</span>**arguments<span style=\"font-weight: bold\">)</span>                                                        \n",
       "           File <span style=\"color: #008000; text-decoration-color: #008000\">\"c:\\Users\\960ra\\anaconda3\\envs\\ChatPdf\\lib\\site-packages\\pydantic\\_internal\\_validate_call.py\"</span>,    \n",
       "         line <span style=\"color: #008080; text-decoration-color: #008080; font-weight: bold\">39</span>, in wrapper_function                                                                              \n",
       "             return <span style=\"color: #800080; text-decoration-color: #800080; font-weight: bold\">wrapper</span><span style=\"font-weight: bold\">(</span>*args, **kwargs<span style=\"font-weight: bold\">)</span>                                                                       \n",
       "           File <span style=\"color: #008000; text-decoration-color: #008000\">\"c:\\Users\\960ra\\anaconda3\\envs\\ChatPdf\\lib\\site-packages\\pydantic\\_internal\\_validate_call.py\"</span>,    \n",
       "         line <span style=\"color: #008080; text-decoration-color: #008080; font-weight: bold\">136</span>, in __call__                                                                                     \n",
       "             res = <span style=\"color: #800080; text-decoration-color: #800080; font-weight: bold\">self.__pydantic_validator__.validate_python</span><span style=\"font-weight: bold\">(</span><span style=\"color: #800080; text-decoration-color: #800080; font-weight: bold\">pydantic_core.ArgsKwargs</span><span style=\"font-weight: bold\">(</span>args, kwargs<span style=\"font-weight: bold\">))</span>             \n",
       "         pydantic_core._pydantic_core.ValidationError: <span style=\"color: #008080; text-decoration-color: #008080; font-weight: bold\">1</span> validation error for ReasoningTools.think                 \n",
       "         parameters                                                                                                \n",
       "           Unexpected keyword argument <span style=\"font-weight: bold\">[</span><span style=\"color: #808000; text-decoration-color: #808000\">type</span>=<span style=\"color: #800080; text-decoration-color: #800080\">unexpected_keyword_argument</span>, <span style=\"color: #808000; text-decoration-color: #808000\">input_value</span>=<span style=\"font-weight: bold\">{</span><span style=\"color: #008000; text-decoration-color: #008000\">'tool_uses'</span>:                \n",
       "         <span style=\"font-weight: bold\">[{</span><span style=\"color: #008000; text-decoration-color: #008000\">'recipien...\", '</span>confidence': <span style=\"color: #008080; text-decoration-color: #008080; font-weight: bold\">0.9</span><span style=\"font-weight: bold\">}}]}</span>, <span style=\"color: #808000; text-decoration-color: #808000\">input_type</span>=<span style=\"color: #800080; text-decoration-color: #800080\">dict</span><span style=\"font-weight: bold\">]</span>                                                  \n",
       "             For further information visit <span style=\"color: #0000ff; text-decoration-color: #0000ff; text-decoration: underline\">https://errors.pydantic.dev/2.11/v/unexpected_keyword_argument</span>          \n",
       "</pre>\n"
      ],
      "text/plain": [
       "\u001b[1;31mERROR   \u001b[0m \u001b[1;36m1\u001b[0m validation error for ReasoningTools.think                                                               \n",
       "         parameters                                                                                                \n",
       "           Unexpected keyword argument \u001b[1m[\u001b[0m\u001b[33mtype\u001b[0m=\u001b[35munexpected_keyword_argument\u001b[0m, \u001b[33minput_value\u001b[0m=\u001b[1m{\u001b[0m\u001b[32m'tool_uses'\u001b[0m:                \n",
       "         \u001b[1m[\u001b[0m\u001b[1m{\u001b[0m\u001b[32m'recipien...\", '\u001b[0mconfidence': \u001b[1;36m0.9\u001b[0m\u001b[1m}\u001b[0m\u001b[1m}\u001b[0m\u001b[1m]\u001b[0m\u001b[1m}\u001b[0m, \u001b[33minput_type\u001b[0m=\u001b[35mdict\u001b[0m\u001b[1m]\u001b[0m                                                  \n",
       "             For further information visit \u001b[4;94mhttps://errors.pydantic.dev/2.11/v/unexpected_keyword_argument\u001b[0m          \n",
       "         Traceback \u001b[1m(\u001b[0mmost recent call last\u001b[1m)\u001b[0m:                                                                        \n",
       "           File \u001b[32m\"c:\\Users\\960ra\\anaconda3\\envs\\ChatPdf\\lib\\site-packages\\agno\\tools\\function.py\"\u001b[0m, line \u001b[1;36m554\u001b[0m, in     \n",
       "         execute                                                                                                   \n",
       "             result = \u001b[1;35mself.function.entrypoint\u001b[0m\u001b[1m(\u001b[0m**arguments\u001b[1m)\u001b[0m                                                        \n",
       "           File \u001b[32m\"c:\\Users\\960ra\\anaconda3\\envs\\ChatPdf\\lib\\site-packages\\pydantic\\_internal\\_validate_call.py\"\u001b[0m,    \n",
       "         line \u001b[1;36m39\u001b[0m, in wrapper_function                                                                              \n",
       "             return \u001b[1;35mwrapper\u001b[0m\u001b[1m(\u001b[0m*args, **kwargs\u001b[1m)\u001b[0m                                                                       \n",
       "           File \u001b[32m\"c:\\Users\\960ra\\anaconda3\\envs\\ChatPdf\\lib\\site-packages\\pydantic\\_internal\\_validate_call.py\"\u001b[0m,    \n",
       "         line \u001b[1;36m136\u001b[0m, in __call__                                                                                     \n",
       "             res = \u001b[1;35mself.__pydantic_validator__.validate_python\u001b[0m\u001b[1m(\u001b[0m\u001b[1;35mpydantic_core.ArgsKwargs\u001b[0m\u001b[1m(\u001b[0margs, kwargs\u001b[1m)\u001b[0m\u001b[1m)\u001b[0m             \n",
       "         pydantic_core._pydantic_core.ValidationError: \u001b[1;36m1\u001b[0m validation error for ReasoningTools.think                 \n",
       "         parameters                                                                                                \n",
       "           Unexpected keyword argument \u001b[1m[\u001b[0m\u001b[33mtype\u001b[0m=\u001b[35munexpected_keyword_argument\u001b[0m, \u001b[33minput_value\u001b[0m=\u001b[1m{\u001b[0m\u001b[32m'tool_uses'\u001b[0m:                \n",
       "         \u001b[1m[\u001b[0m\u001b[1m{\u001b[0m\u001b[32m'recipien...\", '\u001b[0mconfidence': \u001b[1;36m0.9\u001b[0m\u001b[1m}\u001b[0m\u001b[1m}\u001b[0m\u001b[1m]\u001b[0m\u001b[1m}\u001b[0m, \u001b[33minput_type\u001b[0m=\u001b[35mdict\u001b[0m\u001b[1m]\u001b[0m                                                  \n",
       "             For further information visit \u001b[4;94mhttps://errors.pydantic.dev/2.11/v/unexpected_keyword_argument\u001b[0m          \n"
      ]
     },
     "metadata": {},
     "output_type": "display_data"
    },
    {
     "data": {
      "text/html": [
       "<pre style=\"white-space:pre;overflow-x:auto;line-height:normal;font-family:Menlo,'DejaVu Sans Mono',consolas,'Courier New',monospace\"><span style=\"color: #808000; text-decoration-color: #808000\">WARNING </span> Could not run function <span style=\"color: #800080; text-decoration-color: #800080; font-weight: bold\">think</span><span style=\"font-weight: bold\">(</span><span style=\"color: #808000; text-decoration-color: #808000\">...</span><span style=\"font-weight: bold\">)</span>                                                                         \n",
       "</pre>\n"
      ],
      "text/plain": [
       "\u001b[33mWARNING \u001b[0m Could not run function \u001b[1;35mthink\u001b[0m\u001b[1m(\u001b[0m\u001b[33m...\u001b[0m\u001b[1m)\u001b[0m                                                                         \n"
      ]
     },
     "metadata": {},
     "output_type": "display_data"
    },
    {
     "data": {
      "text/html": [
       "<pre style=\"white-space:pre;overflow-x:auto;line-height:normal;font-family:Menlo,'DejaVu Sans Mono',consolas,'Courier New',monospace\"><span style=\"color: #800000; text-decoration-color: #800000; font-weight: bold\">ERROR   </span> <span style=\"color: #008080; text-decoration-color: #008080; font-weight: bold\">1</span> validation error for ReasoningTools.think                                                               \n",
       "         parameters                                                                                                \n",
       "           Unexpected keyword argument <span style=\"font-weight: bold\">[</span><span style=\"color: #808000; text-decoration-color: #808000\">type</span>=<span style=\"color: #800080; text-decoration-color: #800080\">unexpected_keyword_argument</span>, <span style=\"color: #808000; text-decoration-color: #808000\">input_value</span>=<span style=\"font-weight: bold\">{</span><span style=\"color: #008000; text-decoration-color: #008000\">'recipient_name'</span>:           \n",
       "         <span style=\"color: #008000; text-decoration-color: #008000\">'funct...s.\", '</span>confidence': <span style=\"color: #008080; text-decoration-color: #008080; font-weight: bold\">0.9</span><span style=\"font-weight: bold\">}}</span>, <span style=\"color: #808000; text-decoration-color: #808000\">input_type</span>=<span style=\"color: #800080; text-decoration-color: #800080\">dict</span><span style=\"font-weight: bold\">]</span>                                                       \n",
       "             For further information visit <span style=\"color: #0000ff; text-decoration-color: #0000ff; text-decoration: underline\">https://errors.pydantic.dev/2.11/v/unexpected_keyword_argument</span>          \n",
       "         Traceback <span style=\"font-weight: bold\">(</span>most recent call last<span style=\"font-weight: bold\">)</span>:                                                                        \n",
       "           File <span style=\"color: #008000; text-decoration-color: #008000\">\"c:\\Users\\960ra\\anaconda3\\envs\\ChatPdf\\lib\\site-packages\\agno\\tools\\function.py\"</span>, line <span style=\"color: #008080; text-decoration-color: #008080; font-weight: bold\">554</span>, in     \n",
       "         execute                                                                                                   \n",
       "             result = <span style=\"color: #800080; text-decoration-color: #800080; font-weight: bold\">self.function.entrypoint</span><span style=\"font-weight: bold\">(</span>**arguments<span style=\"font-weight: bold\">)</span>                                                        \n",
       "           File <span style=\"color: #008000; text-decoration-color: #008000\">\"c:\\Users\\960ra\\anaconda3\\envs\\ChatPdf\\lib\\site-packages\\pydantic\\_internal\\_validate_call.py\"</span>,    \n",
       "         line <span style=\"color: #008080; text-decoration-color: #008080; font-weight: bold\">39</span>, in wrapper_function                                                                              \n",
       "             return <span style=\"color: #800080; text-decoration-color: #800080; font-weight: bold\">wrapper</span><span style=\"font-weight: bold\">(</span>*args, **kwargs<span style=\"font-weight: bold\">)</span>                                                                       \n",
       "           File <span style=\"color: #008000; text-decoration-color: #008000\">\"c:\\Users\\960ra\\anaconda3\\envs\\ChatPdf\\lib\\site-packages\\pydantic\\_internal\\_validate_call.py\"</span>,    \n",
       "         line <span style=\"color: #008080; text-decoration-color: #008080; font-weight: bold\">136</span>, in __call__                                                                                     \n",
       "             res = <span style=\"color: #800080; text-decoration-color: #800080; font-weight: bold\">self.__pydantic_validator__.validate_python</span><span style=\"font-weight: bold\">(</span><span style=\"color: #800080; text-decoration-color: #800080; font-weight: bold\">pydantic_core.ArgsKwargs</span><span style=\"font-weight: bold\">(</span>args, kwargs<span style=\"font-weight: bold\">))</span>             \n",
       "         pydantic_core._pydantic_core.ValidationError: <span style=\"color: #008080; text-decoration-color: #008080; font-weight: bold\">1</span> validation error for ReasoningTools.think                 \n",
       "         parameters                                                                                                \n",
       "           Unexpected keyword argument <span style=\"font-weight: bold\">[</span><span style=\"color: #808000; text-decoration-color: #808000\">type</span>=<span style=\"color: #800080; text-decoration-color: #800080\">unexpected_keyword_argument</span>, <span style=\"color: #808000; text-decoration-color: #808000\">input_value</span>=<span style=\"font-weight: bold\">{</span><span style=\"color: #008000; text-decoration-color: #008000\">'recipient_name'</span>:           \n",
       "         <span style=\"color: #008000; text-decoration-color: #008000\">'funct...s.\", '</span>confidence': <span style=\"color: #008080; text-decoration-color: #008080; font-weight: bold\">0.9</span><span style=\"font-weight: bold\">}}</span>, <span style=\"color: #808000; text-decoration-color: #808000\">input_type</span>=<span style=\"color: #800080; text-decoration-color: #800080\">dict</span><span style=\"font-weight: bold\">]</span>                                                       \n",
       "             For further information visit <span style=\"color: #0000ff; text-decoration-color: #0000ff; text-decoration: underline\">https://errors.pydantic.dev/2.11/v/unexpected_keyword_argument</span>          \n",
       "</pre>\n"
      ],
      "text/plain": [
       "\u001b[1;31mERROR   \u001b[0m \u001b[1;36m1\u001b[0m validation error for ReasoningTools.think                                                               \n",
       "         parameters                                                                                                \n",
       "           Unexpected keyword argument \u001b[1m[\u001b[0m\u001b[33mtype\u001b[0m=\u001b[35munexpected_keyword_argument\u001b[0m, \u001b[33minput_value\u001b[0m=\u001b[1m{\u001b[0m\u001b[32m'recipient_name'\u001b[0m:           \n",
       "         \u001b[32m'funct...s.\", '\u001b[0mconfidence': \u001b[1;36m0.9\u001b[0m\u001b[1m}\u001b[0m\u001b[1m}\u001b[0m, \u001b[33minput_type\u001b[0m=\u001b[35mdict\u001b[0m\u001b[1m]\u001b[0m                                                       \n",
       "             For further information visit \u001b[4;94mhttps://errors.pydantic.dev/2.11/v/unexpected_keyword_argument\u001b[0m          \n",
       "         Traceback \u001b[1m(\u001b[0mmost recent call last\u001b[1m)\u001b[0m:                                                                        \n",
       "           File \u001b[32m\"c:\\Users\\960ra\\anaconda3\\envs\\ChatPdf\\lib\\site-packages\\agno\\tools\\function.py\"\u001b[0m, line \u001b[1;36m554\u001b[0m, in     \n",
       "         execute                                                                                                   \n",
       "             result = \u001b[1;35mself.function.entrypoint\u001b[0m\u001b[1m(\u001b[0m**arguments\u001b[1m)\u001b[0m                                                        \n",
       "           File \u001b[32m\"c:\\Users\\960ra\\anaconda3\\envs\\ChatPdf\\lib\\site-packages\\pydantic\\_internal\\_validate_call.py\"\u001b[0m,    \n",
       "         line \u001b[1;36m39\u001b[0m, in wrapper_function                                                                              \n",
       "             return \u001b[1;35mwrapper\u001b[0m\u001b[1m(\u001b[0m*args, **kwargs\u001b[1m)\u001b[0m                                                                       \n",
       "           File \u001b[32m\"c:\\Users\\960ra\\anaconda3\\envs\\ChatPdf\\lib\\site-packages\\pydantic\\_internal\\_validate_call.py\"\u001b[0m,    \n",
       "         line \u001b[1;36m136\u001b[0m, in __call__                                                                                     \n",
       "             res = \u001b[1;35mself.__pydantic_validator__.validate_python\u001b[0m\u001b[1m(\u001b[0m\u001b[1;35mpydantic_core.ArgsKwargs\u001b[0m\u001b[1m(\u001b[0margs, kwargs\u001b[1m)\u001b[0m\u001b[1m)\u001b[0m             \n",
       "         pydantic_core._pydantic_core.ValidationError: \u001b[1;36m1\u001b[0m validation error for ReasoningTools.think                 \n",
       "         parameters                                                                                                \n",
       "           Unexpected keyword argument \u001b[1m[\u001b[0m\u001b[33mtype\u001b[0m=\u001b[35munexpected_keyword_argument\u001b[0m, \u001b[33minput_value\u001b[0m=\u001b[1m{\u001b[0m\u001b[32m'recipient_name'\u001b[0m:           \n",
       "         \u001b[32m'funct...s.\", '\u001b[0mconfidence': \u001b[1;36m0.9\u001b[0m\u001b[1m}\u001b[0m\u001b[1m}\u001b[0m, \u001b[33minput_type\u001b[0m=\u001b[35mdict\u001b[0m\u001b[1m]\u001b[0m                                                       \n",
       "             For further information visit \u001b[4;94mhttps://errors.pydantic.dev/2.11/v/unexpected_keyword_argument\u001b[0m          \n"
      ]
     },
     "metadata": {},
     "output_type": "display_data"
    },
    {
     "data": {
      "text/html": [
       "<pre style=\"white-space:pre;overflow-x:auto;line-height:normal;font-family:Menlo,'DejaVu Sans Mono',consolas,'Courier New',monospace\"><span style=\"color: #808000; text-decoration-color: #808000\">WARNING </span> Could not run function <span style=\"color: #800080; text-decoration-color: #800080; font-weight: bold\">think</span><span style=\"font-weight: bold\">(</span><span style=\"color: #808000; text-decoration-color: #808000\">...</span><span style=\"font-weight: bold\">)</span>                                                                         \n",
       "</pre>\n"
      ],
      "text/plain": [
       "\u001b[33mWARNING \u001b[0m Could not run function \u001b[1;35mthink\u001b[0m\u001b[1m(\u001b[0m\u001b[33m...\u001b[0m\u001b[1m)\u001b[0m                                                                         \n"
      ]
     },
     "metadata": {},
     "output_type": "display_data"
    },
    {
     "data": {
      "text/html": [
       "<pre style=\"white-space:pre;overflow-x:auto;line-height:normal;font-family:Menlo,'DejaVu Sans Mono',consolas,'Courier New',monospace\"><span style=\"color: #800000; text-decoration-color: #800000; font-weight: bold\">ERROR   </span> <span style=\"color: #008080; text-decoration-color: #008080; font-weight: bold\">1</span> validation error for ReasoningTools.think                                                               \n",
       "         parameters                                                                                                \n",
       "           Unexpected keyword argument <span style=\"font-weight: bold\">[</span><span style=\"color: #808000; text-decoration-color: #808000\">type</span>=<span style=\"color: #800080; text-decoration-color: #800080\">unexpected_keyword_argument</span>, <span style=\"color: #808000; text-decoration-color: #808000\">input_value</span>=<span style=\"font-weight: bold\">{</span><span style=\"color: #008000; text-decoration-color: #008000\">'recipient_name'</span>:           \n",
       "         <span style=\"color: #008000; text-decoration-color: #008000\">'funct...s.\", '</span>confidence': <span style=\"color: #008080; text-decoration-color: #008080; font-weight: bold\">0.9</span><span style=\"font-weight: bold\">}}</span>, <span style=\"color: #808000; text-decoration-color: #808000\">input_type</span>=<span style=\"color: #800080; text-decoration-color: #800080\">dict</span><span style=\"font-weight: bold\">]</span>                                                       \n",
       "             For further information visit <span style=\"color: #0000ff; text-decoration-color: #0000ff; text-decoration: underline\">https://errors.pydantic.dev/2.11/v/unexpected_keyword_argument</span>          \n",
       "         Traceback <span style=\"font-weight: bold\">(</span>most recent call last<span style=\"font-weight: bold\">)</span>:                                                                        \n",
       "           File <span style=\"color: #008000; text-decoration-color: #008000\">\"c:\\Users\\960ra\\anaconda3\\envs\\ChatPdf\\lib\\site-packages\\agno\\tools\\function.py\"</span>, line <span style=\"color: #008080; text-decoration-color: #008080; font-weight: bold\">554</span>, in     \n",
       "         execute                                                                                                   \n",
       "             result = <span style=\"color: #800080; text-decoration-color: #800080; font-weight: bold\">self.function.entrypoint</span><span style=\"font-weight: bold\">(</span>**arguments<span style=\"font-weight: bold\">)</span>                                                        \n",
       "           File <span style=\"color: #008000; text-decoration-color: #008000\">\"c:\\Users\\960ra\\anaconda3\\envs\\ChatPdf\\lib\\site-packages\\pydantic\\_internal\\_validate_call.py\"</span>,    \n",
       "         line <span style=\"color: #008080; text-decoration-color: #008080; font-weight: bold\">39</span>, in wrapper_function                                                                              \n",
       "             return <span style=\"color: #800080; text-decoration-color: #800080; font-weight: bold\">wrapper</span><span style=\"font-weight: bold\">(</span>*args, **kwargs<span style=\"font-weight: bold\">)</span>                                                                       \n",
       "           File <span style=\"color: #008000; text-decoration-color: #008000\">\"c:\\Users\\960ra\\anaconda3\\envs\\ChatPdf\\lib\\site-packages\\pydantic\\_internal\\_validate_call.py\"</span>,    \n",
       "         line <span style=\"color: #008080; text-decoration-color: #008080; font-weight: bold\">136</span>, in __call__                                                                                     \n",
       "             res = <span style=\"color: #800080; text-decoration-color: #800080; font-weight: bold\">self.__pydantic_validator__.validate_python</span><span style=\"font-weight: bold\">(</span><span style=\"color: #800080; text-decoration-color: #800080; font-weight: bold\">pydantic_core.ArgsKwargs</span><span style=\"font-weight: bold\">(</span>args, kwargs<span style=\"font-weight: bold\">))</span>             \n",
       "         pydantic_core._pydantic_core.ValidationError: <span style=\"color: #008080; text-decoration-color: #008080; font-weight: bold\">1</span> validation error for ReasoningTools.think                 \n",
       "         parameters                                                                                                \n",
       "           Unexpected keyword argument <span style=\"font-weight: bold\">[</span><span style=\"color: #808000; text-decoration-color: #808000\">type</span>=<span style=\"color: #800080; text-decoration-color: #800080\">unexpected_keyword_argument</span>, <span style=\"color: #808000; text-decoration-color: #808000\">input_value</span>=<span style=\"font-weight: bold\">{</span><span style=\"color: #008000; text-decoration-color: #008000\">'recipient_name'</span>:           \n",
       "         <span style=\"color: #008000; text-decoration-color: #008000\">'funct...s.\", '</span>confidence': <span style=\"color: #008080; text-decoration-color: #008080; font-weight: bold\">0.9</span><span style=\"font-weight: bold\">}}</span>, <span style=\"color: #808000; text-decoration-color: #808000\">input_type</span>=<span style=\"color: #800080; text-decoration-color: #800080\">dict</span><span style=\"font-weight: bold\">]</span>                                                       \n",
       "             For further information visit <span style=\"color: #0000ff; text-decoration-color: #0000ff; text-decoration: underline\">https://errors.pydantic.dev/2.11/v/unexpected_keyword_argument</span>          \n",
       "</pre>\n"
      ],
      "text/plain": [
       "\u001b[1;31mERROR   \u001b[0m \u001b[1;36m1\u001b[0m validation error for ReasoningTools.think                                                               \n",
       "         parameters                                                                                                \n",
       "           Unexpected keyword argument \u001b[1m[\u001b[0m\u001b[33mtype\u001b[0m=\u001b[35munexpected_keyword_argument\u001b[0m, \u001b[33minput_value\u001b[0m=\u001b[1m{\u001b[0m\u001b[32m'recipient_name'\u001b[0m:           \n",
       "         \u001b[32m'funct...s.\", '\u001b[0mconfidence': \u001b[1;36m0.9\u001b[0m\u001b[1m}\u001b[0m\u001b[1m}\u001b[0m, \u001b[33minput_type\u001b[0m=\u001b[35mdict\u001b[0m\u001b[1m]\u001b[0m                                                       \n",
       "             For further information visit \u001b[4;94mhttps://errors.pydantic.dev/2.11/v/unexpected_keyword_argument\u001b[0m          \n",
       "         Traceback \u001b[1m(\u001b[0mmost recent call last\u001b[1m)\u001b[0m:                                                                        \n",
       "           File \u001b[32m\"c:\\Users\\960ra\\anaconda3\\envs\\ChatPdf\\lib\\site-packages\\agno\\tools\\function.py\"\u001b[0m, line \u001b[1;36m554\u001b[0m, in     \n",
       "         execute                                                                                                   \n",
       "             result = \u001b[1;35mself.function.entrypoint\u001b[0m\u001b[1m(\u001b[0m**arguments\u001b[1m)\u001b[0m                                                        \n",
       "           File \u001b[32m\"c:\\Users\\960ra\\anaconda3\\envs\\ChatPdf\\lib\\site-packages\\pydantic\\_internal\\_validate_call.py\"\u001b[0m,    \n",
       "         line \u001b[1;36m39\u001b[0m, in wrapper_function                                                                              \n",
       "             return \u001b[1;35mwrapper\u001b[0m\u001b[1m(\u001b[0m*args, **kwargs\u001b[1m)\u001b[0m                                                                       \n",
       "           File \u001b[32m\"c:\\Users\\960ra\\anaconda3\\envs\\ChatPdf\\lib\\site-packages\\pydantic\\_internal\\_validate_call.py\"\u001b[0m,    \n",
       "         line \u001b[1;36m136\u001b[0m, in __call__                                                                                     \n",
       "             res = \u001b[1;35mself.__pydantic_validator__.validate_python\u001b[0m\u001b[1m(\u001b[0m\u001b[1;35mpydantic_core.ArgsKwargs\u001b[0m\u001b[1m(\u001b[0margs, kwargs\u001b[1m)\u001b[0m\u001b[1m)\u001b[0m             \n",
       "         pydantic_core._pydantic_core.ValidationError: \u001b[1;36m1\u001b[0m validation error for ReasoningTools.think                 \n",
       "         parameters                                                                                                \n",
       "           Unexpected keyword argument \u001b[1m[\u001b[0m\u001b[33mtype\u001b[0m=\u001b[35munexpected_keyword_argument\u001b[0m, \u001b[33minput_value\u001b[0m=\u001b[1m{\u001b[0m\u001b[32m'recipient_name'\u001b[0m:           \n",
       "         \u001b[32m'funct...s.\", '\u001b[0mconfidence': \u001b[1;36m0.9\u001b[0m\u001b[1m}\u001b[0m\u001b[1m}\u001b[0m, \u001b[33minput_type\u001b[0m=\u001b[35mdict\u001b[0m\u001b[1m]\u001b[0m                                                       \n",
       "             For further information visit \u001b[4;94mhttps://errors.pydantic.dev/2.11/v/unexpected_keyword_argument\u001b[0m          \n"
      ]
     },
     "metadata": {},
     "output_type": "display_data"
    },
    {
     "data": {
      "text/html": [
       "<pre style=\"white-space:pre;overflow-x:auto;line-height:normal;font-family:Menlo,'DejaVu Sans Mono',consolas,'Courier New',monospace\"><span style=\"color: #808000; text-decoration-color: #808000\">WARNING </span> Could not run function <span style=\"color: #800080; text-decoration-color: #800080; font-weight: bold\">think</span><span style=\"font-weight: bold\">(</span><span style=\"color: #808000; text-decoration-color: #808000\">...</span><span style=\"font-weight: bold\">)</span>                                                                         \n",
       "</pre>\n"
      ],
      "text/plain": [
       "\u001b[33mWARNING \u001b[0m Could not run function \u001b[1;35mthink\u001b[0m\u001b[1m(\u001b[0m\u001b[33m...\u001b[0m\u001b[1m)\u001b[0m                                                                         \n"
      ]
     },
     "metadata": {},
     "output_type": "display_data"
    },
    {
     "data": {
      "text/html": [
       "<pre style=\"white-space:pre;overflow-x:auto;line-height:normal;font-family:Menlo,'DejaVu Sans Mono',consolas,'Courier New',monospace\"><span style=\"color: #800000; text-decoration-color: #800000; font-weight: bold\">ERROR   </span> <span style=\"color: #008080; text-decoration-color: #008080; font-weight: bold\">1</span> validation error for ReasoningTools.think                                                               \n",
       "         parameters                                                                                                \n",
       "           Unexpected keyword argument <span style=\"font-weight: bold\">[</span><span style=\"color: #808000; text-decoration-color: #808000\">type</span>=<span style=\"color: #800080; text-decoration-color: #800080\">unexpected_keyword_argument</span>, <span style=\"color: #808000; text-decoration-color: #808000\">input_value</span>=<span style=\"font-weight: bold\">{</span><span style=\"color: #008000; text-decoration-color: #008000\">'recipient_name'</span>:           \n",
       "         <span style=\"color: #008000; text-decoration-color: #008000\">'funct...s.\", '</span>confidence': <span style=\"color: #008080; text-decoration-color: #008080; font-weight: bold\">0.9</span><span style=\"font-weight: bold\">}}</span>, <span style=\"color: #808000; text-decoration-color: #808000\">input_type</span>=<span style=\"color: #800080; text-decoration-color: #800080\">dict</span><span style=\"font-weight: bold\">]</span>                                                       \n",
       "             For further information visit <span style=\"color: #0000ff; text-decoration-color: #0000ff; text-decoration: underline\">https://errors.pydantic.dev/2.11/v/unexpected_keyword_argument</span>          \n",
       "         Traceback <span style=\"font-weight: bold\">(</span>most recent call last<span style=\"font-weight: bold\">)</span>:                                                                        \n",
       "           File <span style=\"color: #008000; text-decoration-color: #008000\">\"c:\\Users\\960ra\\anaconda3\\envs\\ChatPdf\\lib\\site-packages\\agno\\tools\\function.py\"</span>, line <span style=\"color: #008080; text-decoration-color: #008080; font-weight: bold\">554</span>, in     \n",
       "         execute                                                                                                   \n",
       "             result = <span style=\"color: #800080; text-decoration-color: #800080; font-weight: bold\">self.function.entrypoint</span><span style=\"font-weight: bold\">(</span>**arguments<span style=\"font-weight: bold\">)</span>                                                        \n",
       "           File <span style=\"color: #008000; text-decoration-color: #008000\">\"c:\\Users\\960ra\\anaconda3\\envs\\ChatPdf\\lib\\site-packages\\pydantic\\_internal\\_validate_call.py\"</span>,    \n",
       "         line <span style=\"color: #008080; text-decoration-color: #008080; font-weight: bold\">39</span>, in wrapper_function                                                                              \n",
       "             return <span style=\"color: #800080; text-decoration-color: #800080; font-weight: bold\">wrapper</span><span style=\"font-weight: bold\">(</span>*args, **kwargs<span style=\"font-weight: bold\">)</span>                                                                       \n",
       "           File <span style=\"color: #008000; text-decoration-color: #008000\">\"c:\\Users\\960ra\\anaconda3\\envs\\ChatPdf\\lib\\site-packages\\pydantic\\_internal\\_validate_call.py\"</span>,    \n",
       "         line <span style=\"color: #008080; text-decoration-color: #008080; font-weight: bold\">136</span>, in __call__                                                                                     \n",
       "             res = <span style=\"color: #800080; text-decoration-color: #800080; font-weight: bold\">self.__pydantic_validator__.validate_python</span><span style=\"font-weight: bold\">(</span><span style=\"color: #800080; text-decoration-color: #800080; font-weight: bold\">pydantic_core.ArgsKwargs</span><span style=\"font-weight: bold\">(</span>args, kwargs<span style=\"font-weight: bold\">))</span>             \n",
       "         pydantic_core._pydantic_core.ValidationError: <span style=\"color: #008080; text-decoration-color: #008080; font-weight: bold\">1</span> validation error for ReasoningTools.think                 \n",
       "         parameters                                                                                                \n",
       "           Unexpected keyword argument <span style=\"font-weight: bold\">[</span><span style=\"color: #808000; text-decoration-color: #808000\">type</span>=<span style=\"color: #800080; text-decoration-color: #800080\">unexpected_keyword_argument</span>, <span style=\"color: #808000; text-decoration-color: #808000\">input_value</span>=<span style=\"font-weight: bold\">{</span><span style=\"color: #008000; text-decoration-color: #008000\">'recipient_name'</span>:           \n",
       "         <span style=\"color: #008000; text-decoration-color: #008000\">'funct...s.\", '</span>confidence': <span style=\"color: #008080; text-decoration-color: #008080; font-weight: bold\">0.9</span><span style=\"font-weight: bold\">}}</span>, <span style=\"color: #808000; text-decoration-color: #808000\">input_type</span>=<span style=\"color: #800080; text-decoration-color: #800080\">dict</span><span style=\"font-weight: bold\">]</span>                                                       \n",
       "             For further information visit <span style=\"color: #0000ff; text-decoration-color: #0000ff; text-decoration: underline\">https://errors.pydantic.dev/2.11/v/unexpected_keyword_argument</span>          \n",
       "</pre>\n"
      ],
      "text/plain": [
       "\u001b[1;31mERROR   \u001b[0m \u001b[1;36m1\u001b[0m validation error for ReasoningTools.think                                                               \n",
       "         parameters                                                                                                \n",
       "           Unexpected keyword argument \u001b[1m[\u001b[0m\u001b[33mtype\u001b[0m=\u001b[35munexpected_keyword_argument\u001b[0m, \u001b[33minput_value\u001b[0m=\u001b[1m{\u001b[0m\u001b[32m'recipient_name'\u001b[0m:           \n",
       "         \u001b[32m'funct...s.\", '\u001b[0mconfidence': \u001b[1;36m0.9\u001b[0m\u001b[1m}\u001b[0m\u001b[1m}\u001b[0m, \u001b[33minput_type\u001b[0m=\u001b[35mdict\u001b[0m\u001b[1m]\u001b[0m                                                       \n",
       "             For further information visit \u001b[4;94mhttps://errors.pydantic.dev/2.11/v/unexpected_keyword_argument\u001b[0m          \n",
       "         Traceback \u001b[1m(\u001b[0mmost recent call last\u001b[1m)\u001b[0m:                                                                        \n",
       "           File \u001b[32m\"c:\\Users\\960ra\\anaconda3\\envs\\ChatPdf\\lib\\site-packages\\agno\\tools\\function.py\"\u001b[0m, line \u001b[1;36m554\u001b[0m, in     \n",
       "         execute                                                                                                   \n",
       "             result = \u001b[1;35mself.function.entrypoint\u001b[0m\u001b[1m(\u001b[0m**arguments\u001b[1m)\u001b[0m                                                        \n",
       "           File \u001b[32m\"c:\\Users\\960ra\\anaconda3\\envs\\ChatPdf\\lib\\site-packages\\pydantic\\_internal\\_validate_call.py\"\u001b[0m,    \n",
       "         line \u001b[1;36m39\u001b[0m, in wrapper_function                                                                              \n",
       "             return \u001b[1;35mwrapper\u001b[0m\u001b[1m(\u001b[0m*args, **kwargs\u001b[1m)\u001b[0m                                                                       \n",
       "           File \u001b[32m\"c:\\Users\\960ra\\anaconda3\\envs\\ChatPdf\\lib\\site-packages\\pydantic\\_internal\\_validate_call.py\"\u001b[0m,    \n",
       "         line \u001b[1;36m136\u001b[0m, in __call__                                                                                     \n",
       "             res = \u001b[1;35mself.__pydantic_validator__.validate_python\u001b[0m\u001b[1m(\u001b[0m\u001b[1;35mpydantic_core.ArgsKwargs\u001b[0m\u001b[1m(\u001b[0margs, kwargs\u001b[1m)\u001b[0m\u001b[1m)\u001b[0m             \n",
       "         pydantic_core._pydantic_core.ValidationError: \u001b[1;36m1\u001b[0m validation error for ReasoningTools.think                 \n",
       "         parameters                                                                                                \n",
       "           Unexpected keyword argument \u001b[1m[\u001b[0m\u001b[33mtype\u001b[0m=\u001b[35munexpected_keyword_argument\u001b[0m, \u001b[33minput_value\u001b[0m=\u001b[1m{\u001b[0m\u001b[32m'recipient_name'\u001b[0m:           \n",
       "         \u001b[32m'funct...s.\", '\u001b[0mconfidence': \u001b[1;36m0.9\u001b[0m\u001b[1m}\u001b[0m\u001b[1m}\u001b[0m, \u001b[33minput_type\u001b[0m=\u001b[35mdict\u001b[0m\u001b[1m]\u001b[0m                                                       \n",
       "             For further information visit \u001b[4;94mhttps://errors.pydantic.dev/2.11/v/unexpected_keyword_argument\u001b[0m          \n"
      ]
     },
     "metadata": {},
     "output_type": "display_data"
    },
    {
     "data": {
      "text/html": [
       "<pre style=\"white-space:pre;overflow-x:auto;line-height:normal;font-family:Menlo,'DejaVu Sans Mono',consolas,'Courier New',monospace\"><span style=\"color: #808000; text-decoration-color: #808000\">WARNING </span> Could not run function <span style=\"color: #800080; text-decoration-color: #800080; font-weight: bold\">think</span><span style=\"font-weight: bold\">(</span><span style=\"color: #808000; text-decoration-color: #808000\">...</span><span style=\"font-weight: bold\">)</span>                                                                         \n",
       "</pre>\n"
      ],
      "text/plain": [
       "\u001b[33mWARNING \u001b[0m Could not run function \u001b[1;35mthink\u001b[0m\u001b[1m(\u001b[0m\u001b[33m...\u001b[0m\u001b[1m)\u001b[0m                                                                         \n"
      ]
     },
     "metadata": {},
     "output_type": "display_data"
    },
    {
     "data": {
      "text/html": [
       "<pre style=\"white-space:pre;overflow-x:auto;line-height:normal;font-family:Menlo,'DejaVu Sans Mono',consolas,'Courier New',monospace\"><span style=\"color: #800000; text-decoration-color: #800000; font-weight: bold\">ERROR   </span> <span style=\"color: #008080; text-decoration-color: #008080; font-weight: bold\">1</span> validation error for ReasoningTools.think                                                               \n",
       "         parameters                                                                                                \n",
       "           Unexpected keyword argument <span style=\"font-weight: bold\">[</span><span style=\"color: #808000; text-decoration-color: #808000\">type</span>=<span style=\"color: #800080; text-decoration-color: #800080\">unexpected_keyword_argument</span>, <span style=\"color: #808000; text-decoration-color: #808000\">input_value</span>=<span style=\"font-weight: bold\">{</span><span style=\"color: #008000; text-decoration-color: #008000\">'recipient_name'</span>:           \n",
       "         <span style=\"color: #008000; text-decoration-color: #008000\">'funct...s.\", '</span>confidence': <span style=\"color: #008080; text-decoration-color: #008080; font-weight: bold\">0.9</span><span style=\"font-weight: bold\">}}</span>, <span style=\"color: #808000; text-decoration-color: #808000\">input_type</span>=<span style=\"color: #800080; text-decoration-color: #800080\">dict</span><span style=\"font-weight: bold\">]</span>                                                       \n",
       "             For further information visit <span style=\"color: #0000ff; text-decoration-color: #0000ff; text-decoration: underline\">https://errors.pydantic.dev/2.11/v/unexpected_keyword_argument</span>          \n",
       "         Traceback <span style=\"font-weight: bold\">(</span>most recent call last<span style=\"font-weight: bold\">)</span>:                                                                        \n",
       "           File <span style=\"color: #008000; text-decoration-color: #008000\">\"c:\\Users\\960ra\\anaconda3\\envs\\ChatPdf\\lib\\site-packages\\agno\\tools\\function.py\"</span>, line <span style=\"color: #008080; text-decoration-color: #008080; font-weight: bold\">554</span>, in     \n",
       "         execute                                                                                                   \n",
       "             result = <span style=\"color: #800080; text-decoration-color: #800080; font-weight: bold\">self.function.entrypoint</span><span style=\"font-weight: bold\">(</span>**arguments<span style=\"font-weight: bold\">)</span>                                                        \n",
       "           File <span style=\"color: #008000; text-decoration-color: #008000\">\"c:\\Users\\960ra\\anaconda3\\envs\\ChatPdf\\lib\\site-packages\\pydantic\\_internal\\_validate_call.py\"</span>,    \n",
       "         line <span style=\"color: #008080; text-decoration-color: #008080; font-weight: bold\">39</span>, in wrapper_function                                                                              \n",
       "             return <span style=\"color: #800080; text-decoration-color: #800080; font-weight: bold\">wrapper</span><span style=\"font-weight: bold\">(</span>*args, **kwargs<span style=\"font-weight: bold\">)</span>                                                                       \n",
       "           File <span style=\"color: #008000; text-decoration-color: #008000\">\"c:\\Users\\960ra\\anaconda3\\envs\\ChatPdf\\lib\\site-packages\\pydantic\\_internal\\_validate_call.py\"</span>,    \n",
       "         line <span style=\"color: #008080; text-decoration-color: #008080; font-weight: bold\">136</span>, in __call__                                                                                     \n",
       "             res = <span style=\"color: #800080; text-decoration-color: #800080; font-weight: bold\">self.__pydantic_validator__.validate_python</span><span style=\"font-weight: bold\">(</span><span style=\"color: #800080; text-decoration-color: #800080; font-weight: bold\">pydantic_core.ArgsKwargs</span><span style=\"font-weight: bold\">(</span>args, kwargs<span style=\"font-weight: bold\">))</span>             \n",
       "         pydantic_core._pydantic_core.ValidationError: <span style=\"color: #008080; text-decoration-color: #008080; font-weight: bold\">1</span> validation error for ReasoningTools.think                 \n",
       "         parameters                                                                                                \n",
       "           Unexpected keyword argument <span style=\"font-weight: bold\">[</span><span style=\"color: #808000; text-decoration-color: #808000\">type</span>=<span style=\"color: #800080; text-decoration-color: #800080\">unexpected_keyword_argument</span>, <span style=\"color: #808000; text-decoration-color: #808000\">input_value</span>=<span style=\"font-weight: bold\">{</span><span style=\"color: #008000; text-decoration-color: #008000\">'recipient_name'</span>:           \n",
       "         <span style=\"color: #008000; text-decoration-color: #008000\">'funct...s.\", '</span>confidence': <span style=\"color: #008080; text-decoration-color: #008080; font-weight: bold\">0.9</span><span style=\"font-weight: bold\">}}</span>, <span style=\"color: #808000; text-decoration-color: #808000\">input_type</span>=<span style=\"color: #800080; text-decoration-color: #800080\">dict</span><span style=\"font-weight: bold\">]</span>                                                       \n",
       "             For further information visit <span style=\"color: #0000ff; text-decoration-color: #0000ff; text-decoration: underline\">https://errors.pydantic.dev/2.11/v/unexpected_keyword_argument</span>          \n",
       "</pre>\n"
      ],
      "text/plain": [
       "\u001b[1;31mERROR   \u001b[0m \u001b[1;36m1\u001b[0m validation error for ReasoningTools.think                                                               \n",
       "         parameters                                                                                                \n",
       "           Unexpected keyword argument \u001b[1m[\u001b[0m\u001b[33mtype\u001b[0m=\u001b[35munexpected_keyword_argument\u001b[0m, \u001b[33minput_value\u001b[0m=\u001b[1m{\u001b[0m\u001b[32m'recipient_name'\u001b[0m:           \n",
       "         \u001b[32m'funct...s.\", '\u001b[0mconfidence': \u001b[1;36m0.9\u001b[0m\u001b[1m}\u001b[0m\u001b[1m}\u001b[0m, \u001b[33minput_type\u001b[0m=\u001b[35mdict\u001b[0m\u001b[1m]\u001b[0m                                                       \n",
       "             For further information visit \u001b[4;94mhttps://errors.pydantic.dev/2.11/v/unexpected_keyword_argument\u001b[0m          \n",
       "         Traceback \u001b[1m(\u001b[0mmost recent call last\u001b[1m)\u001b[0m:                                                                        \n",
       "           File \u001b[32m\"c:\\Users\\960ra\\anaconda3\\envs\\ChatPdf\\lib\\site-packages\\agno\\tools\\function.py\"\u001b[0m, line \u001b[1;36m554\u001b[0m, in     \n",
       "         execute                                                                                                   \n",
       "             result = \u001b[1;35mself.function.entrypoint\u001b[0m\u001b[1m(\u001b[0m**arguments\u001b[1m)\u001b[0m                                                        \n",
       "           File \u001b[32m\"c:\\Users\\960ra\\anaconda3\\envs\\ChatPdf\\lib\\site-packages\\pydantic\\_internal\\_validate_call.py\"\u001b[0m,    \n",
       "         line \u001b[1;36m39\u001b[0m, in wrapper_function                                                                              \n",
       "             return \u001b[1;35mwrapper\u001b[0m\u001b[1m(\u001b[0m*args, **kwargs\u001b[1m)\u001b[0m                                                                       \n",
       "           File \u001b[32m\"c:\\Users\\960ra\\anaconda3\\envs\\ChatPdf\\lib\\site-packages\\pydantic\\_internal\\_validate_call.py\"\u001b[0m,    \n",
       "         line \u001b[1;36m136\u001b[0m, in __call__                                                                                     \n",
       "             res = \u001b[1;35mself.__pydantic_validator__.validate_python\u001b[0m\u001b[1m(\u001b[0m\u001b[1;35mpydantic_core.ArgsKwargs\u001b[0m\u001b[1m(\u001b[0margs, kwargs\u001b[1m)\u001b[0m\u001b[1m)\u001b[0m             \n",
       "         pydantic_core._pydantic_core.ValidationError: \u001b[1;36m1\u001b[0m validation error for ReasoningTools.think                 \n",
       "         parameters                                                                                                \n",
       "           Unexpected keyword argument \u001b[1m[\u001b[0m\u001b[33mtype\u001b[0m=\u001b[35munexpected_keyword_argument\u001b[0m, \u001b[33minput_value\u001b[0m=\u001b[1m{\u001b[0m\u001b[32m'recipient_name'\u001b[0m:           \n",
       "         \u001b[32m'funct...s.\", '\u001b[0mconfidence': \u001b[1;36m0.9\u001b[0m\u001b[1m}\u001b[0m\u001b[1m}\u001b[0m, \u001b[33minput_type\u001b[0m=\u001b[35mdict\u001b[0m\u001b[1m]\u001b[0m                                                       \n",
       "             For further information visit \u001b[4;94mhttps://errors.pydantic.dev/2.11/v/unexpected_keyword_argument\u001b[0m          \n"
      ]
     },
     "metadata": {},
     "output_type": "display_data"
    },
    {
     "data": {
      "text/html": [
       "<pre style=\"white-space:pre;overflow-x:auto;line-height:normal;font-family:Menlo,'DejaVu Sans Mono',consolas,'Courier New',monospace\"><span style=\"color: #808000; text-decoration-color: #808000\">WARNING </span> Could not run function <span style=\"color: #800080; text-decoration-color: #800080; font-weight: bold\">think</span><span style=\"font-weight: bold\">(</span><span style=\"color: #808000; text-decoration-color: #808000\">...</span><span style=\"font-weight: bold\">)</span>                                                                         \n",
       "</pre>\n"
      ],
      "text/plain": [
       "\u001b[33mWARNING \u001b[0m Could not run function \u001b[1;35mthink\u001b[0m\u001b[1m(\u001b[0m\u001b[33m...\u001b[0m\u001b[1m)\u001b[0m                                                                         \n"
      ]
     },
     "metadata": {},
     "output_type": "display_data"
    },
    {
     "data": {
      "text/html": [
       "<pre style=\"white-space:pre;overflow-x:auto;line-height:normal;font-family:Menlo,'DejaVu Sans Mono',consolas,'Courier New',monospace\"><span style=\"color: #800000; text-decoration-color: #800000; font-weight: bold\">ERROR   </span> <span style=\"color: #008080; text-decoration-color: #008080; font-weight: bold\">1</span> validation error for ReasoningTools.think                                                               \n",
       "         parameters                                                                                                \n",
       "           Unexpected keyword argument <span style=\"font-weight: bold\">[</span><span style=\"color: #808000; text-decoration-color: #808000\">type</span>=<span style=\"color: #800080; text-decoration-color: #800080\">unexpected_keyword_argument</span>, <span style=\"color: #808000; text-decoration-color: #808000\">input_value</span>=<span style=\"font-weight: bold\">{</span><span style=\"color: #008000; text-decoration-color: #008000\">'recipient_name'</span>:           \n",
       "         <span style=\"color: #008000; text-decoration-color: #008000\">'funct...s.\", '</span>confidence': <span style=\"color: #008080; text-decoration-color: #008080; font-weight: bold\">0.9</span><span style=\"font-weight: bold\">}}</span>, <span style=\"color: #808000; text-decoration-color: #808000\">input_type</span>=<span style=\"color: #800080; text-decoration-color: #800080\">dict</span><span style=\"font-weight: bold\">]</span>                                                       \n",
       "             For further information visit <span style=\"color: #0000ff; text-decoration-color: #0000ff; text-decoration: underline\">https://errors.pydantic.dev/2.11/v/unexpected_keyword_argument</span>          \n",
       "         Traceback <span style=\"font-weight: bold\">(</span>most recent call last<span style=\"font-weight: bold\">)</span>:                                                                        \n",
       "           File <span style=\"color: #008000; text-decoration-color: #008000\">\"c:\\Users\\960ra\\anaconda3\\envs\\ChatPdf\\lib\\site-packages\\agno\\tools\\function.py\"</span>, line <span style=\"color: #008080; text-decoration-color: #008080; font-weight: bold\">554</span>, in     \n",
       "         execute                                                                                                   \n",
       "             result = <span style=\"color: #800080; text-decoration-color: #800080; font-weight: bold\">self.function.entrypoint</span><span style=\"font-weight: bold\">(</span>**arguments<span style=\"font-weight: bold\">)</span>                                                        \n",
       "           File <span style=\"color: #008000; text-decoration-color: #008000\">\"c:\\Users\\960ra\\anaconda3\\envs\\ChatPdf\\lib\\site-packages\\pydantic\\_internal\\_validate_call.py\"</span>,    \n",
       "         line <span style=\"color: #008080; text-decoration-color: #008080; font-weight: bold\">39</span>, in wrapper_function                                                                              \n",
       "             return <span style=\"color: #800080; text-decoration-color: #800080; font-weight: bold\">wrapper</span><span style=\"font-weight: bold\">(</span>*args, **kwargs<span style=\"font-weight: bold\">)</span>                                                                       \n",
       "           File <span style=\"color: #008000; text-decoration-color: #008000\">\"c:\\Users\\960ra\\anaconda3\\envs\\ChatPdf\\lib\\site-packages\\pydantic\\_internal\\_validate_call.py\"</span>,    \n",
       "         line <span style=\"color: #008080; text-decoration-color: #008080; font-weight: bold\">136</span>, in __call__                                                                                     \n",
       "             res = <span style=\"color: #800080; text-decoration-color: #800080; font-weight: bold\">self.__pydantic_validator__.validate_python</span><span style=\"font-weight: bold\">(</span><span style=\"color: #800080; text-decoration-color: #800080; font-weight: bold\">pydantic_core.ArgsKwargs</span><span style=\"font-weight: bold\">(</span>args, kwargs<span style=\"font-weight: bold\">))</span>             \n",
       "         pydantic_core._pydantic_core.ValidationError: <span style=\"color: #008080; text-decoration-color: #008080; font-weight: bold\">1</span> validation error for ReasoningTools.think                 \n",
       "         parameters                                                                                                \n",
       "           Unexpected keyword argument <span style=\"font-weight: bold\">[</span><span style=\"color: #808000; text-decoration-color: #808000\">type</span>=<span style=\"color: #800080; text-decoration-color: #800080\">unexpected_keyword_argument</span>, <span style=\"color: #808000; text-decoration-color: #808000\">input_value</span>=<span style=\"font-weight: bold\">{</span><span style=\"color: #008000; text-decoration-color: #008000\">'recipient_name'</span>:           \n",
       "         <span style=\"color: #008000; text-decoration-color: #008000\">'funct...s.\", '</span>confidence': <span style=\"color: #008080; text-decoration-color: #008080; font-weight: bold\">0.9</span><span style=\"font-weight: bold\">}}</span>, <span style=\"color: #808000; text-decoration-color: #808000\">input_type</span>=<span style=\"color: #800080; text-decoration-color: #800080\">dict</span><span style=\"font-weight: bold\">]</span>                                                       \n",
       "             For further information visit <span style=\"color: #0000ff; text-decoration-color: #0000ff; text-decoration: underline\">https://errors.pydantic.dev/2.11/v/unexpected_keyword_argument</span>          \n",
       "</pre>\n"
      ],
      "text/plain": [
       "\u001b[1;31mERROR   \u001b[0m \u001b[1;36m1\u001b[0m validation error for ReasoningTools.think                                                               \n",
       "         parameters                                                                                                \n",
       "           Unexpected keyword argument \u001b[1m[\u001b[0m\u001b[33mtype\u001b[0m=\u001b[35munexpected_keyword_argument\u001b[0m, \u001b[33minput_value\u001b[0m=\u001b[1m{\u001b[0m\u001b[32m'recipient_name'\u001b[0m:           \n",
       "         \u001b[32m'funct...s.\", '\u001b[0mconfidence': \u001b[1;36m0.9\u001b[0m\u001b[1m}\u001b[0m\u001b[1m}\u001b[0m, \u001b[33minput_type\u001b[0m=\u001b[35mdict\u001b[0m\u001b[1m]\u001b[0m                                                       \n",
       "             For further information visit \u001b[4;94mhttps://errors.pydantic.dev/2.11/v/unexpected_keyword_argument\u001b[0m          \n",
       "         Traceback \u001b[1m(\u001b[0mmost recent call last\u001b[1m)\u001b[0m:                                                                        \n",
       "           File \u001b[32m\"c:\\Users\\960ra\\anaconda3\\envs\\ChatPdf\\lib\\site-packages\\agno\\tools\\function.py\"\u001b[0m, line \u001b[1;36m554\u001b[0m, in     \n",
       "         execute                                                                                                   \n",
       "             result = \u001b[1;35mself.function.entrypoint\u001b[0m\u001b[1m(\u001b[0m**arguments\u001b[1m)\u001b[0m                                                        \n",
       "           File \u001b[32m\"c:\\Users\\960ra\\anaconda3\\envs\\ChatPdf\\lib\\site-packages\\pydantic\\_internal\\_validate_call.py\"\u001b[0m,    \n",
       "         line \u001b[1;36m39\u001b[0m, in wrapper_function                                                                              \n",
       "             return \u001b[1;35mwrapper\u001b[0m\u001b[1m(\u001b[0m*args, **kwargs\u001b[1m)\u001b[0m                                                                       \n",
       "           File \u001b[32m\"c:\\Users\\960ra\\anaconda3\\envs\\ChatPdf\\lib\\site-packages\\pydantic\\_internal\\_validate_call.py\"\u001b[0m,    \n",
       "         line \u001b[1;36m136\u001b[0m, in __call__                                                                                     \n",
       "             res = \u001b[1;35mself.__pydantic_validator__.validate_python\u001b[0m\u001b[1m(\u001b[0m\u001b[1;35mpydantic_core.ArgsKwargs\u001b[0m\u001b[1m(\u001b[0margs, kwargs\u001b[1m)\u001b[0m\u001b[1m)\u001b[0m             \n",
       "         pydantic_core._pydantic_core.ValidationError: \u001b[1;36m1\u001b[0m validation error for ReasoningTools.think                 \n",
       "         parameters                                                                                                \n",
       "           Unexpected keyword argument \u001b[1m[\u001b[0m\u001b[33mtype\u001b[0m=\u001b[35munexpected_keyword_argument\u001b[0m, \u001b[33minput_value\u001b[0m=\u001b[1m{\u001b[0m\u001b[32m'recipient_name'\u001b[0m:           \n",
       "         \u001b[32m'funct...s.\", '\u001b[0mconfidence': \u001b[1;36m0.9\u001b[0m\u001b[1m}\u001b[0m\u001b[1m}\u001b[0m, \u001b[33minput_type\u001b[0m=\u001b[35mdict\u001b[0m\u001b[1m]\u001b[0m                                                       \n",
       "             For further information visit \u001b[4;94mhttps://errors.pydantic.dev/2.11/v/unexpected_keyword_argument\u001b[0m          \n"
      ]
     },
     "metadata": {},
     "output_type": "display_data"
    },
    {
     "data": {
      "text/html": [
       "<pre style=\"white-space:pre;overflow-x:auto;line-height:normal;font-family:Menlo,'DejaVu Sans Mono',consolas,'Courier New',monospace\"><span style=\"color: #808000; text-decoration-color: #808000\">WARNING </span> Could not run function <span style=\"color: #800080; text-decoration-color: #800080; font-weight: bold\">think</span><span style=\"font-weight: bold\">(</span><span style=\"color: #808000; text-decoration-color: #808000\">...</span><span style=\"font-weight: bold\">)</span>                                                                         \n",
       "</pre>\n"
      ],
      "text/plain": [
       "\u001b[33mWARNING \u001b[0m Could not run function \u001b[1;35mthink\u001b[0m\u001b[1m(\u001b[0m\u001b[33m...\u001b[0m\u001b[1m)\u001b[0m                                                                         \n"
      ]
     },
     "metadata": {},
     "output_type": "display_data"
    },
    {
     "data": {
      "text/html": [
       "<pre style=\"white-space:pre;overflow-x:auto;line-height:normal;font-family:Menlo,'DejaVu Sans Mono',consolas,'Courier New',monospace\"><span style=\"color: #800000; text-decoration-color: #800000; font-weight: bold\">ERROR   </span> <span style=\"color: #008080; text-decoration-color: #008080; font-weight: bold\">1</span> validation error for ReasoningTools.think                                                               \n",
       "         parameters                                                                                                \n",
       "           Unexpected keyword argument <span style=\"font-weight: bold\">[</span><span style=\"color: #808000; text-decoration-color: #808000\">type</span>=<span style=\"color: #800080; text-decoration-color: #800080\">unexpected_keyword_argument</span>, <span style=\"color: #808000; text-decoration-color: #808000\">input_value</span>=<span style=\"font-weight: bold\">{</span><span style=\"color: #008000; text-decoration-color: #008000\">'recipient_name'</span>:           \n",
       "         <span style=\"color: #008000; text-decoration-color: #008000\">'funct...s.\", '</span>confidence': <span style=\"color: #008080; text-decoration-color: #008080; font-weight: bold\">0.9</span><span style=\"font-weight: bold\">}}</span>, <span style=\"color: #808000; text-decoration-color: #808000\">input_type</span>=<span style=\"color: #800080; text-decoration-color: #800080\">dict</span><span style=\"font-weight: bold\">]</span>                                                       \n",
       "             For further information visit <span style=\"color: #0000ff; text-decoration-color: #0000ff; text-decoration: underline\">https://errors.pydantic.dev/2.11/v/unexpected_keyword_argument</span>          \n",
       "         Traceback <span style=\"font-weight: bold\">(</span>most recent call last<span style=\"font-weight: bold\">)</span>:                                                                        \n",
       "           File <span style=\"color: #008000; text-decoration-color: #008000\">\"c:\\Users\\960ra\\anaconda3\\envs\\ChatPdf\\lib\\site-packages\\agno\\tools\\function.py\"</span>, line <span style=\"color: #008080; text-decoration-color: #008080; font-weight: bold\">554</span>, in     \n",
       "         execute                                                                                                   \n",
       "             result = <span style=\"color: #800080; text-decoration-color: #800080; font-weight: bold\">self.function.entrypoint</span><span style=\"font-weight: bold\">(</span>**arguments<span style=\"font-weight: bold\">)</span>                                                        \n",
       "           File <span style=\"color: #008000; text-decoration-color: #008000\">\"c:\\Users\\960ra\\anaconda3\\envs\\ChatPdf\\lib\\site-packages\\pydantic\\_internal\\_validate_call.py\"</span>,    \n",
       "         line <span style=\"color: #008080; text-decoration-color: #008080; font-weight: bold\">39</span>, in wrapper_function                                                                              \n",
       "             return <span style=\"color: #800080; text-decoration-color: #800080; font-weight: bold\">wrapper</span><span style=\"font-weight: bold\">(</span>*args, **kwargs<span style=\"font-weight: bold\">)</span>                                                                       \n",
       "           File <span style=\"color: #008000; text-decoration-color: #008000\">\"c:\\Users\\960ra\\anaconda3\\envs\\ChatPdf\\lib\\site-packages\\pydantic\\_internal\\_validate_call.py\"</span>,    \n",
       "         line <span style=\"color: #008080; text-decoration-color: #008080; font-weight: bold\">136</span>, in __call__                                                                                     \n",
       "             res = <span style=\"color: #800080; text-decoration-color: #800080; font-weight: bold\">self.__pydantic_validator__.validate_python</span><span style=\"font-weight: bold\">(</span><span style=\"color: #800080; text-decoration-color: #800080; font-weight: bold\">pydantic_core.ArgsKwargs</span><span style=\"font-weight: bold\">(</span>args, kwargs<span style=\"font-weight: bold\">))</span>             \n",
       "         pydantic_core._pydantic_core.ValidationError: <span style=\"color: #008080; text-decoration-color: #008080; font-weight: bold\">1</span> validation error for ReasoningTools.think                 \n",
       "         parameters                                                                                                \n",
       "           Unexpected keyword argument <span style=\"font-weight: bold\">[</span><span style=\"color: #808000; text-decoration-color: #808000\">type</span>=<span style=\"color: #800080; text-decoration-color: #800080\">unexpected_keyword_argument</span>, <span style=\"color: #808000; text-decoration-color: #808000\">input_value</span>=<span style=\"font-weight: bold\">{</span><span style=\"color: #008000; text-decoration-color: #008000\">'recipient_name'</span>:           \n",
       "         <span style=\"color: #008000; text-decoration-color: #008000\">'funct...s.\", '</span>confidence': <span style=\"color: #008080; text-decoration-color: #008080; font-weight: bold\">0.9</span><span style=\"font-weight: bold\">}}</span>, <span style=\"color: #808000; text-decoration-color: #808000\">input_type</span>=<span style=\"color: #800080; text-decoration-color: #800080\">dict</span><span style=\"font-weight: bold\">]</span>                                                       \n",
       "             For further information visit <span style=\"color: #0000ff; text-decoration-color: #0000ff; text-decoration: underline\">https://errors.pydantic.dev/2.11/v/unexpected_keyword_argument</span>          \n",
       "</pre>\n"
      ],
      "text/plain": [
       "\u001b[1;31mERROR   \u001b[0m \u001b[1;36m1\u001b[0m validation error for ReasoningTools.think                                                               \n",
       "         parameters                                                                                                \n",
       "           Unexpected keyword argument \u001b[1m[\u001b[0m\u001b[33mtype\u001b[0m=\u001b[35munexpected_keyword_argument\u001b[0m, \u001b[33minput_value\u001b[0m=\u001b[1m{\u001b[0m\u001b[32m'recipient_name'\u001b[0m:           \n",
       "         \u001b[32m'funct...s.\", '\u001b[0mconfidence': \u001b[1;36m0.9\u001b[0m\u001b[1m}\u001b[0m\u001b[1m}\u001b[0m, \u001b[33minput_type\u001b[0m=\u001b[35mdict\u001b[0m\u001b[1m]\u001b[0m                                                       \n",
       "             For further information visit \u001b[4;94mhttps://errors.pydantic.dev/2.11/v/unexpected_keyword_argument\u001b[0m          \n",
       "         Traceback \u001b[1m(\u001b[0mmost recent call last\u001b[1m)\u001b[0m:                                                                        \n",
       "           File \u001b[32m\"c:\\Users\\960ra\\anaconda3\\envs\\ChatPdf\\lib\\site-packages\\agno\\tools\\function.py\"\u001b[0m, line \u001b[1;36m554\u001b[0m, in     \n",
       "         execute                                                                                                   \n",
       "             result = \u001b[1;35mself.function.entrypoint\u001b[0m\u001b[1m(\u001b[0m**arguments\u001b[1m)\u001b[0m                                                        \n",
       "           File \u001b[32m\"c:\\Users\\960ra\\anaconda3\\envs\\ChatPdf\\lib\\site-packages\\pydantic\\_internal\\_validate_call.py\"\u001b[0m,    \n",
       "         line \u001b[1;36m39\u001b[0m, in wrapper_function                                                                              \n",
       "             return \u001b[1;35mwrapper\u001b[0m\u001b[1m(\u001b[0m*args, **kwargs\u001b[1m)\u001b[0m                                                                       \n",
       "           File \u001b[32m\"c:\\Users\\960ra\\anaconda3\\envs\\ChatPdf\\lib\\site-packages\\pydantic\\_internal\\_validate_call.py\"\u001b[0m,    \n",
       "         line \u001b[1;36m136\u001b[0m, in __call__                                                                                     \n",
       "             res = \u001b[1;35mself.__pydantic_validator__.validate_python\u001b[0m\u001b[1m(\u001b[0m\u001b[1;35mpydantic_core.ArgsKwargs\u001b[0m\u001b[1m(\u001b[0margs, kwargs\u001b[1m)\u001b[0m\u001b[1m)\u001b[0m             \n",
       "         pydantic_core._pydantic_core.ValidationError: \u001b[1;36m1\u001b[0m validation error for ReasoningTools.think                 \n",
       "         parameters                                                                                                \n",
       "           Unexpected keyword argument \u001b[1m[\u001b[0m\u001b[33mtype\u001b[0m=\u001b[35munexpected_keyword_argument\u001b[0m, \u001b[33minput_value\u001b[0m=\u001b[1m{\u001b[0m\u001b[32m'recipient_name'\u001b[0m:           \n",
       "         \u001b[32m'funct...s.\", '\u001b[0mconfidence': \u001b[1;36m0.9\u001b[0m\u001b[1m}\u001b[0m\u001b[1m}\u001b[0m, \u001b[33minput_type\u001b[0m=\u001b[35mdict\u001b[0m\u001b[1m]\u001b[0m                                                       \n",
       "             For further information visit \u001b[4;94mhttps://errors.pydantic.dev/2.11/v/unexpected_keyword_argument\u001b[0m          \n"
      ]
     },
     "metadata": {},
     "output_type": "display_data"
    },
    {
     "data": {
      "text/html": [
       "<pre style=\"white-space:pre;overflow-x:auto;line-height:normal;font-family:Menlo,'DejaVu Sans Mono',consolas,'Courier New',monospace\"><span style=\"color: #808000; text-decoration-color: #808000\">WARNING </span> Could not run function <span style=\"color: #800080; text-decoration-color: #800080; font-weight: bold\">think</span><span style=\"font-weight: bold\">(</span><span style=\"color: #808000; text-decoration-color: #808000\">...</span><span style=\"font-weight: bold\">)</span>                                                                         \n",
       "</pre>\n"
      ],
      "text/plain": [
       "\u001b[33mWARNING \u001b[0m Could not run function \u001b[1;35mthink\u001b[0m\u001b[1m(\u001b[0m\u001b[33m...\u001b[0m\u001b[1m)\u001b[0m                                                                         \n"
      ]
     },
     "metadata": {},
     "output_type": "display_data"
    },
    {
     "data": {
      "text/html": [
       "<pre style=\"white-space:pre;overflow-x:auto;line-height:normal;font-family:Menlo,'DejaVu Sans Mono',consolas,'Courier New',monospace\"><span style=\"color: #800000; text-decoration-color: #800000; font-weight: bold\">ERROR   </span> <span style=\"color: #008080; text-decoration-color: #008080; font-weight: bold\">1</span> validation error for ReasoningTools.think                                                               \n",
       "         parameters                                                                                                \n",
       "           Unexpected keyword argument <span style=\"font-weight: bold\">[</span><span style=\"color: #808000; text-decoration-color: #808000\">type</span>=<span style=\"color: #800080; text-decoration-color: #800080\">unexpected_keyword_argument</span>, <span style=\"color: #808000; text-decoration-color: #808000\">input_value</span>=<span style=\"font-weight: bold\">{</span><span style=\"color: #008000; text-decoration-color: #008000\">'recipient_name'</span>:           \n",
       "         <span style=\"color: #008000; text-decoration-color: #008000\">'funct...s.\", '</span>confidence': <span style=\"color: #008080; text-decoration-color: #008080; font-weight: bold\">0.9</span><span style=\"font-weight: bold\">}}</span>, <span style=\"color: #808000; text-decoration-color: #808000\">input_type</span>=<span style=\"color: #800080; text-decoration-color: #800080\">dict</span><span style=\"font-weight: bold\">]</span>                                                       \n",
       "             For further information visit <span style=\"color: #0000ff; text-decoration-color: #0000ff; text-decoration: underline\">https://errors.pydantic.dev/2.11/v/unexpected_keyword_argument</span>          \n",
       "         Traceback <span style=\"font-weight: bold\">(</span>most recent call last<span style=\"font-weight: bold\">)</span>:                                                                        \n",
       "           File <span style=\"color: #008000; text-decoration-color: #008000\">\"c:\\Users\\960ra\\anaconda3\\envs\\ChatPdf\\lib\\site-packages\\agno\\tools\\function.py\"</span>, line <span style=\"color: #008080; text-decoration-color: #008080; font-weight: bold\">554</span>, in     \n",
       "         execute                                                                                                   \n",
       "             result = <span style=\"color: #800080; text-decoration-color: #800080; font-weight: bold\">self.function.entrypoint</span><span style=\"font-weight: bold\">(</span>**arguments<span style=\"font-weight: bold\">)</span>                                                        \n",
       "           File <span style=\"color: #008000; text-decoration-color: #008000\">\"c:\\Users\\960ra\\anaconda3\\envs\\ChatPdf\\lib\\site-packages\\pydantic\\_internal\\_validate_call.py\"</span>,    \n",
       "         line <span style=\"color: #008080; text-decoration-color: #008080; font-weight: bold\">39</span>, in wrapper_function                                                                              \n",
       "             return <span style=\"color: #800080; text-decoration-color: #800080; font-weight: bold\">wrapper</span><span style=\"font-weight: bold\">(</span>*args, **kwargs<span style=\"font-weight: bold\">)</span>                                                                       \n",
       "           File <span style=\"color: #008000; text-decoration-color: #008000\">\"c:\\Users\\960ra\\anaconda3\\envs\\ChatPdf\\lib\\site-packages\\pydantic\\_internal\\_validate_call.py\"</span>,    \n",
       "         line <span style=\"color: #008080; text-decoration-color: #008080; font-weight: bold\">136</span>, in __call__                                                                                     \n",
       "             res = <span style=\"color: #800080; text-decoration-color: #800080; font-weight: bold\">self.__pydantic_validator__.validate_python</span><span style=\"font-weight: bold\">(</span><span style=\"color: #800080; text-decoration-color: #800080; font-weight: bold\">pydantic_core.ArgsKwargs</span><span style=\"font-weight: bold\">(</span>args, kwargs<span style=\"font-weight: bold\">))</span>             \n",
       "         pydantic_core._pydantic_core.ValidationError: <span style=\"color: #008080; text-decoration-color: #008080; font-weight: bold\">1</span> validation error for ReasoningTools.think                 \n",
       "         parameters                                                                                                \n",
       "           Unexpected keyword argument <span style=\"font-weight: bold\">[</span><span style=\"color: #808000; text-decoration-color: #808000\">type</span>=<span style=\"color: #800080; text-decoration-color: #800080\">unexpected_keyword_argument</span>, <span style=\"color: #808000; text-decoration-color: #808000\">input_value</span>=<span style=\"font-weight: bold\">{</span><span style=\"color: #008000; text-decoration-color: #008000\">'recipient_name'</span>:           \n",
       "         <span style=\"color: #008000; text-decoration-color: #008000\">'funct...s.\", '</span>confidence': <span style=\"color: #008080; text-decoration-color: #008080; font-weight: bold\">0.9</span><span style=\"font-weight: bold\">}}</span>, <span style=\"color: #808000; text-decoration-color: #808000\">input_type</span>=<span style=\"color: #800080; text-decoration-color: #800080\">dict</span><span style=\"font-weight: bold\">]</span>                                                       \n",
       "             For further information visit <span style=\"color: #0000ff; text-decoration-color: #0000ff; text-decoration: underline\">https://errors.pydantic.dev/2.11/v/unexpected_keyword_argument</span>          \n",
       "</pre>\n"
      ],
      "text/plain": [
       "\u001b[1;31mERROR   \u001b[0m \u001b[1;36m1\u001b[0m validation error for ReasoningTools.think                                                               \n",
       "         parameters                                                                                                \n",
       "           Unexpected keyword argument \u001b[1m[\u001b[0m\u001b[33mtype\u001b[0m=\u001b[35munexpected_keyword_argument\u001b[0m, \u001b[33minput_value\u001b[0m=\u001b[1m{\u001b[0m\u001b[32m'recipient_name'\u001b[0m:           \n",
       "         \u001b[32m'funct...s.\", '\u001b[0mconfidence': \u001b[1;36m0.9\u001b[0m\u001b[1m}\u001b[0m\u001b[1m}\u001b[0m, \u001b[33minput_type\u001b[0m=\u001b[35mdict\u001b[0m\u001b[1m]\u001b[0m                                                       \n",
       "             For further information visit \u001b[4;94mhttps://errors.pydantic.dev/2.11/v/unexpected_keyword_argument\u001b[0m          \n",
       "         Traceback \u001b[1m(\u001b[0mmost recent call last\u001b[1m)\u001b[0m:                                                                        \n",
       "           File \u001b[32m\"c:\\Users\\960ra\\anaconda3\\envs\\ChatPdf\\lib\\site-packages\\agno\\tools\\function.py\"\u001b[0m, line \u001b[1;36m554\u001b[0m, in     \n",
       "         execute                                                                                                   \n",
       "             result = \u001b[1;35mself.function.entrypoint\u001b[0m\u001b[1m(\u001b[0m**arguments\u001b[1m)\u001b[0m                                                        \n",
       "           File \u001b[32m\"c:\\Users\\960ra\\anaconda3\\envs\\ChatPdf\\lib\\site-packages\\pydantic\\_internal\\_validate_call.py\"\u001b[0m,    \n",
       "         line \u001b[1;36m39\u001b[0m, in wrapper_function                                                                              \n",
       "             return \u001b[1;35mwrapper\u001b[0m\u001b[1m(\u001b[0m*args, **kwargs\u001b[1m)\u001b[0m                                                                       \n",
       "           File \u001b[32m\"c:\\Users\\960ra\\anaconda3\\envs\\ChatPdf\\lib\\site-packages\\pydantic\\_internal\\_validate_call.py\"\u001b[0m,    \n",
       "         line \u001b[1;36m136\u001b[0m, in __call__                                                                                     \n",
       "             res = \u001b[1;35mself.__pydantic_validator__.validate_python\u001b[0m\u001b[1m(\u001b[0m\u001b[1;35mpydantic_core.ArgsKwargs\u001b[0m\u001b[1m(\u001b[0margs, kwargs\u001b[1m)\u001b[0m\u001b[1m)\u001b[0m             \n",
       "         pydantic_core._pydantic_core.ValidationError: \u001b[1;36m1\u001b[0m validation error for ReasoningTools.think                 \n",
       "         parameters                                                                                                \n",
       "           Unexpected keyword argument \u001b[1m[\u001b[0m\u001b[33mtype\u001b[0m=\u001b[35munexpected_keyword_argument\u001b[0m, \u001b[33minput_value\u001b[0m=\u001b[1m{\u001b[0m\u001b[32m'recipient_name'\u001b[0m:           \n",
       "         \u001b[32m'funct...s.\", '\u001b[0mconfidence': \u001b[1;36m0.9\u001b[0m\u001b[1m}\u001b[0m\u001b[1m}\u001b[0m, \u001b[33minput_type\u001b[0m=\u001b[35mdict\u001b[0m\u001b[1m]\u001b[0m                                                       \n",
       "             For further information visit \u001b[4;94mhttps://errors.pydantic.dev/2.11/v/unexpected_keyword_argument\u001b[0m          \n"
      ]
     },
     "metadata": {},
     "output_type": "display_data"
    },
    {
     "data": {
      "text/html": [
       "<pre style=\"white-space:pre;overflow-x:auto;line-height:normal;font-family:Menlo,'DejaVu Sans Mono',consolas,'Courier New',monospace\"><span style=\"color: #808000; text-decoration-color: #808000\">WARNING </span> Could not run function <span style=\"color: #800080; text-decoration-color: #800080; font-weight: bold\">think</span><span style=\"font-weight: bold\">(</span><span style=\"color: #808000; text-decoration-color: #808000\">...</span><span style=\"font-weight: bold\">)</span>                                                                         \n",
       "</pre>\n"
      ],
      "text/plain": [
       "\u001b[33mWARNING \u001b[0m Could not run function \u001b[1;35mthink\u001b[0m\u001b[1m(\u001b[0m\u001b[33m...\u001b[0m\u001b[1m)\u001b[0m                                                                         \n"
      ]
     },
     "metadata": {},
     "output_type": "display_data"
    },
    {
     "data": {
      "text/html": [
       "<pre style=\"white-space:pre;overflow-x:auto;line-height:normal;font-family:Menlo,'DejaVu Sans Mono',consolas,'Courier New',monospace\"><span style=\"color: #800000; text-decoration-color: #800000; font-weight: bold\">ERROR   </span> <span style=\"color: #008080; text-decoration-color: #008080; font-weight: bold\">1</span> validation error for ReasoningTools.think                                                               \n",
       "         parameters                                                                                                \n",
       "           Unexpected keyword argument <span style=\"font-weight: bold\">[</span><span style=\"color: #808000; text-decoration-color: #808000\">type</span>=<span style=\"color: #800080; text-decoration-color: #800080\">unexpected_keyword_argument</span>, <span style=\"color: #808000; text-decoration-color: #808000\">input_value</span>=<span style=\"font-weight: bold\">{</span><span style=\"color: #008000; text-decoration-color: #008000\">'recipient_name'</span>:           \n",
       "         <span style=\"color: #008000; text-decoration-color: #008000\">'funct...s.\", '</span>confidence': <span style=\"color: #008080; text-decoration-color: #008080; font-weight: bold\">0.9</span><span style=\"font-weight: bold\">}}</span>, <span style=\"color: #808000; text-decoration-color: #808000\">input_type</span>=<span style=\"color: #800080; text-decoration-color: #800080\">dict</span><span style=\"font-weight: bold\">]</span>                                                       \n",
       "             For further information visit <span style=\"color: #0000ff; text-decoration-color: #0000ff; text-decoration: underline\">https://errors.pydantic.dev/2.11/v/unexpected_keyword_argument</span>          \n",
       "         Traceback <span style=\"font-weight: bold\">(</span>most recent call last<span style=\"font-weight: bold\">)</span>:                                                                        \n",
       "           File <span style=\"color: #008000; text-decoration-color: #008000\">\"c:\\Users\\960ra\\anaconda3\\envs\\ChatPdf\\lib\\site-packages\\agno\\tools\\function.py\"</span>, line <span style=\"color: #008080; text-decoration-color: #008080; font-weight: bold\">554</span>, in     \n",
       "         execute                                                                                                   \n",
       "             result = <span style=\"color: #800080; text-decoration-color: #800080; font-weight: bold\">self.function.entrypoint</span><span style=\"font-weight: bold\">(</span>**arguments<span style=\"font-weight: bold\">)</span>                                                        \n",
       "           File <span style=\"color: #008000; text-decoration-color: #008000\">\"c:\\Users\\960ra\\anaconda3\\envs\\ChatPdf\\lib\\site-packages\\pydantic\\_internal\\_validate_call.py\"</span>,    \n",
       "         line <span style=\"color: #008080; text-decoration-color: #008080; font-weight: bold\">39</span>, in wrapper_function                                                                              \n",
       "             return <span style=\"color: #800080; text-decoration-color: #800080; font-weight: bold\">wrapper</span><span style=\"font-weight: bold\">(</span>*args, **kwargs<span style=\"font-weight: bold\">)</span>                                                                       \n",
       "           File <span style=\"color: #008000; text-decoration-color: #008000\">\"c:\\Users\\960ra\\anaconda3\\envs\\ChatPdf\\lib\\site-packages\\pydantic\\_internal\\_validate_call.py\"</span>,    \n",
       "         line <span style=\"color: #008080; text-decoration-color: #008080; font-weight: bold\">136</span>, in __call__                                                                                     \n",
       "             res = <span style=\"color: #800080; text-decoration-color: #800080; font-weight: bold\">self.__pydantic_validator__.validate_python</span><span style=\"font-weight: bold\">(</span><span style=\"color: #800080; text-decoration-color: #800080; font-weight: bold\">pydantic_core.ArgsKwargs</span><span style=\"font-weight: bold\">(</span>args, kwargs<span style=\"font-weight: bold\">))</span>             \n",
       "         pydantic_core._pydantic_core.ValidationError: <span style=\"color: #008080; text-decoration-color: #008080; font-weight: bold\">1</span> validation error for ReasoningTools.think                 \n",
       "         parameters                                                                                                \n",
       "           Unexpected keyword argument <span style=\"font-weight: bold\">[</span><span style=\"color: #808000; text-decoration-color: #808000\">type</span>=<span style=\"color: #800080; text-decoration-color: #800080\">unexpected_keyword_argument</span>, <span style=\"color: #808000; text-decoration-color: #808000\">input_value</span>=<span style=\"font-weight: bold\">{</span><span style=\"color: #008000; text-decoration-color: #008000\">'recipient_name'</span>:           \n",
       "         <span style=\"color: #008000; text-decoration-color: #008000\">'funct...s.\", '</span>confidence': <span style=\"color: #008080; text-decoration-color: #008080; font-weight: bold\">0.9</span><span style=\"font-weight: bold\">}}</span>, <span style=\"color: #808000; text-decoration-color: #808000\">input_type</span>=<span style=\"color: #800080; text-decoration-color: #800080\">dict</span><span style=\"font-weight: bold\">]</span>                                                       \n",
       "             For further information visit <span style=\"color: #0000ff; text-decoration-color: #0000ff; text-decoration: underline\">https://errors.pydantic.dev/2.11/v/unexpected_keyword_argument</span>          \n",
       "</pre>\n"
      ],
      "text/plain": [
       "\u001b[1;31mERROR   \u001b[0m \u001b[1;36m1\u001b[0m validation error for ReasoningTools.think                                                               \n",
       "         parameters                                                                                                \n",
       "           Unexpected keyword argument \u001b[1m[\u001b[0m\u001b[33mtype\u001b[0m=\u001b[35munexpected_keyword_argument\u001b[0m, \u001b[33minput_value\u001b[0m=\u001b[1m{\u001b[0m\u001b[32m'recipient_name'\u001b[0m:           \n",
       "         \u001b[32m'funct...s.\", '\u001b[0mconfidence': \u001b[1;36m0.9\u001b[0m\u001b[1m}\u001b[0m\u001b[1m}\u001b[0m, \u001b[33minput_type\u001b[0m=\u001b[35mdict\u001b[0m\u001b[1m]\u001b[0m                                                       \n",
       "             For further information visit \u001b[4;94mhttps://errors.pydantic.dev/2.11/v/unexpected_keyword_argument\u001b[0m          \n",
       "         Traceback \u001b[1m(\u001b[0mmost recent call last\u001b[1m)\u001b[0m:                                                                        \n",
       "           File \u001b[32m\"c:\\Users\\960ra\\anaconda3\\envs\\ChatPdf\\lib\\site-packages\\agno\\tools\\function.py\"\u001b[0m, line \u001b[1;36m554\u001b[0m, in     \n",
       "         execute                                                                                                   \n",
       "             result = \u001b[1;35mself.function.entrypoint\u001b[0m\u001b[1m(\u001b[0m**arguments\u001b[1m)\u001b[0m                                                        \n",
       "           File \u001b[32m\"c:\\Users\\960ra\\anaconda3\\envs\\ChatPdf\\lib\\site-packages\\pydantic\\_internal\\_validate_call.py\"\u001b[0m,    \n",
       "         line \u001b[1;36m39\u001b[0m, in wrapper_function                                                                              \n",
       "             return \u001b[1;35mwrapper\u001b[0m\u001b[1m(\u001b[0m*args, **kwargs\u001b[1m)\u001b[0m                                                                       \n",
       "           File \u001b[32m\"c:\\Users\\960ra\\anaconda3\\envs\\ChatPdf\\lib\\site-packages\\pydantic\\_internal\\_validate_call.py\"\u001b[0m,    \n",
       "         line \u001b[1;36m136\u001b[0m, in __call__                                                                                     \n",
       "             res = \u001b[1;35mself.__pydantic_validator__.validate_python\u001b[0m\u001b[1m(\u001b[0m\u001b[1;35mpydantic_core.ArgsKwargs\u001b[0m\u001b[1m(\u001b[0margs, kwargs\u001b[1m)\u001b[0m\u001b[1m)\u001b[0m             \n",
       "         pydantic_core._pydantic_core.ValidationError: \u001b[1;36m1\u001b[0m validation error for ReasoningTools.think                 \n",
       "         parameters                                                                                                \n",
       "           Unexpected keyword argument \u001b[1m[\u001b[0m\u001b[33mtype\u001b[0m=\u001b[35munexpected_keyword_argument\u001b[0m, \u001b[33minput_value\u001b[0m=\u001b[1m{\u001b[0m\u001b[32m'recipient_name'\u001b[0m:           \n",
       "         \u001b[32m'funct...s.\", '\u001b[0mconfidence': \u001b[1;36m0.9\u001b[0m\u001b[1m}\u001b[0m\u001b[1m}\u001b[0m, \u001b[33minput_type\u001b[0m=\u001b[35mdict\u001b[0m\u001b[1m]\u001b[0m                                                       \n",
       "             For further information visit \u001b[4;94mhttps://errors.pydantic.dev/2.11/v/unexpected_keyword_argument\u001b[0m          \n"
      ]
     },
     "metadata": {},
     "output_type": "display_data"
    },
    {
     "data": {
      "text/html": [
       "<pre style=\"white-space:pre;overflow-x:auto;line-height:normal;font-family:Menlo,'DejaVu Sans Mono',consolas,'Courier New',monospace\"><span style=\"color: #808000; text-decoration-color: #808000\">WARNING </span> Could not run function <span style=\"color: #800080; text-decoration-color: #800080; font-weight: bold\">think</span><span style=\"font-weight: bold\">(</span><span style=\"color: #808000; text-decoration-color: #808000\">...</span><span style=\"font-weight: bold\">)</span>                                                                         \n",
       "</pre>\n"
      ],
      "text/plain": [
       "\u001b[33mWARNING \u001b[0m Could not run function \u001b[1;35mthink\u001b[0m\u001b[1m(\u001b[0m\u001b[33m...\u001b[0m\u001b[1m)\u001b[0m                                                                         \n"
      ]
     },
     "metadata": {},
     "output_type": "display_data"
    },
    {
     "data": {
      "text/html": [
       "<pre style=\"white-space:pre;overflow-x:auto;line-height:normal;font-family:Menlo,'DejaVu Sans Mono',consolas,'Courier New',monospace\"><span style=\"color: #800000; text-decoration-color: #800000; font-weight: bold\">ERROR   </span> <span style=\"color: #008080; text-decoration-color: #008080; font-weight: bold\">1</span> validation error for ReasoningTools.think                                                               \n",
       "         parameters                                                                                                \n",
       "           Unexpected keyword argument <span style=\"font-weight: bold\">[</span><span style=\"color: #808000; text-decoration-color: #808000\">type</span>=<span style=\"color: #800080; text-decoration-color: #800080\">unexpected_keyword_argument</span>, <span style=\"color: #808000; text-decoration-color: #808000\">input_value</span>=<span style=\"font-weight: bold\">{</span><span style=\"color: #008000; text-decoration-color: #008000\">'recipient_name'</span>:           \n",
       "         <span style=\"color: #008000; text-decoration-color: #008000\">'funct...s.\", '</span>confidence': <span style=\"color: #008080; text-decoration-color: #008080; font-weight: bold\">0.9</span><span style=\"font-weight: bold\">}}</span>, <span style=\"color: #808000; text-decoration-color: #808000\">input_type</span>=<span style=\"color: #800080; text-decoration-color: #800080\">dict</span><span style=\"font-weight: bold\">]</span>                                                       \n",
       "             For further information visit <span style=\"color: #0000ff; text-decoration-color: #0000ff; text-decoration: underline\">https://errors.pydantic.dev/2.11/v/unexpected_keyword_argument</span>          \n",
       "         Traceback <span style=\"font-weight: bold\">(</span>most recent call last<span style=\"font-weight: bold\">)</span>:                                                                        \n",
       "           File <span style=\"color: #008000; text-decoration-color: #008000\">\"c:\\Users\\960ra\\anaconda3\\envs\\ChatPdf\\lib\\site-packages\\agno\\tools\\function.py\"</span>, line <span style=\"color: #008080; text-decoration-color: #008080; font-weight: bold\">554</span>, in     \n",
       "         execute                                                                                                   \n",
       "             result = <span style=\"color: #800080; text-decoration-color: #800080; font-weight: bold\">self.function.entrypoint</span><span style=\"font-weight: bold\">(</span>**arguments<span style=\"font-weight: bold\">)</span>                                                        \n",
       "           File <span style=\"color: #008000; text-decoration-color: #008000\">\"c:\\Users\\960ra\\anaconda3\\envs\\ChatPdf\\lib\\site-packages\\pydantic\\_internal\\_validate_call.py\"</span>,    \n",
       "         line <span style=\"color: #008080; text-decoration-color: #008080; font-weight: bold\">39</span>, in wrapper_function                                                                              \n",
       "             return <span style=\"color: #800080; text-decoration-color: #800080; font-weight: bold\">wrapper</span><span style=\"font-weight: bold\">(</span>*args, **kwargs<span style=\"font-weight: bold\">)</span>                                                                       \n",
       "           File <span style=\"color: #008000; text-decoration-color: #008000\">\"c:\\Users\\960ra\\anaconda3\\envs\\ChatPdf\\lib\\site-packages\\pydantic\\_internal\\_validate_call.py\"</span>,    \n",
       "         line <span style=\"color: #008080; text-decoration-color: #008080; font-weight: bold\">136</span>, in __call__                                                                                     \n",
       "             res = <span style=\"color: #800080; text-decoration-color: #800080; font-weight: bold\">self.__pydantic_validator__.validate_python</span><span style=\"font-weight: bold\">(</span><span style=\"color: #800080; text-decoration-color: #800080; font-weight: bold\">pydantic_core.ArgsKwargs</span><span style=\"font-weight: bold\">(</span>args, kwargs<span style=\"font-weight: bold\">))</span>             \n",
       "         pydantic_core._pydantic_core.ValidationError: <span style=\"color: #008080; text-decoration-color: #008080; font-weight: bold\">1</span> validation error for ReasoningTools.think                 \n",
       "         parameters                                                                                                \n",
       "           Unexpected keyword argument <span style=\"font-weight: bold\">[</span><span style=\"color: #808000; text-decoration-color: #808000\">type</span>=<span style=\"color: #800080; text-decoration-color: #800080\">unexpected_keyword_argument</span>, <span style=\"color: #808000; text-decoration-color: #808000\">input_value</span>=<span style=\"font-weight: bold\">{</span><span style=\"color: #008000; text-decoration-color: #008000\">'recipient_name'</span>:           \n",
       "         <span style=\"color: #008000; text-decoration-color: #008000\">'funct...s.\", '</span>confidence': <span style=\"color: #008080; text-decoration-color: #008080; font-weight: bold\">0.9</span><span style=\"font-weight: bold\">}}</span>, <span style=\"color: #808000; text-decoration-color: #808000\">input_type</span>=<span style=\"color: #800080; text-decoration-color: #800080\">dict</span><span style=\"font-weight: bold\">]</span>                                                       \n",
       "             For further information visit <span style=\"color: #0000ff; text-decoration-color: #0000ff; text-decoration: underline\">https://errors.pydantic.dev/2.11/v/unexpected_keyword_argument</span>          \n",
       "</pre>\n"
      ],
      "text/plain": [
       "\u001b[1;31mERROR   \u001b[0m \u001b[1;36m1\u001b[0m validation error for ReasoningTools.think                                                               \n",
       "         parameters                                                                                                \n",
       "           Unexpected keyword argument \u001b[1m[\u001b[0m\u001b[33mtype\u001b[0m=\u001b[35munexpected_keyword_argument\u001b[0m, \u001b[33minput_value\u001b[0m=\u001b[1m{\u001b[0m\u001b[32m'recipient_name'\u001b[0m:           \n",
       "         \u001b[32m'funct...s.\", '\u001b[0mconfidence': \u001b[1;36m0.9\u001b[0m\u001b[1m}\u001b[0m\u001b[1m}\u001b[0m, \u001b[33minput_type\u001b[0m=\u001b[35mdict\u001b[0m\u001b[1m]\u001b[0m                                                       \n",
       "             For further information visit \u001b[4;94mhttps://errors.pydantic.dev/2.11/v/unexpected_keyword_argument\u001b[0m          \n",
       "         Traceback \u001b[1m(\u001b[0mmost recent call last\u001b[1m)\u001b[0m:                                                                        \n",
       "           File \u001b[32m\"c:\\Users\\960ra\\anaconda3\\envs\\ChatPdf\\lib\\site-packages\\agno\\tools\\function.py\"\u001b[0m, line \u001b[1;36m554\u001b[0m, in     \n",
       "         execute                                                                                                   \n",
       "             result = \u001b[1;35mself.function.entrypoint\u001b[0m\u001b[1m(\u001b[0m**arguments\u001b[1m)\u001b[0m                                                        \n",
       "           File \u001b[32m\"c:\\Users\\960ra\\anaconda3\\envs\\ChatPdf\\lib\\site-packages\\pydantic\\_internal\\_validate_call.py\"\u001b[0m,    \n",
       "         line \u001b[1;36m39\u001b[0m, in wrapper_function                                                                              \n",
       "             return \u001b[1;35mwrapper\u001b[0m\u001b[1m(\u001b[0m*args, **kwargs\u001b[1m)\u001b[0m                                                                       \n",
       "           File \u001b[32m\"c:\\Users\\960ra\\anaconda3\\envs\\ChatPdf\\lib\\site-packages\\pydantic\\_internal\\_validate_call.py\"\u001b[0m,    \n",
       "         line \u001b[1;36m136\u001b[0m, in __call__                                                                                     \n",
       "             res = \u001b[1;35mself.__pydantic_validator__.validate_python\u001b[0m\u001b[1m(\u001b[0m\u001b[1;35mpydantic_core.ArgsKwargs\u001b[0m\u001b[1m(\u001b[0margs, kwargs\u001b[1m)\u001b[0m\u001b[1m)\u001b[0m             \n",
       "         pydantic_core._pydantic_core.ValidationError: \u001b[1;36m1\u001b[0m validation error for ReasoningTools.think                 \n",
       "         parameters                                                                                                \n",
       "           Unexpected keyword argument \u001b[1m[\u001b[0m\u001b[33mtype\u001b[0m=\u001b[35munexpected_keyword_argument\u001b[0m, \u001b[33minput_value\u001b[0m=\u001b[1m{\u001b[0m\u001b[32m'recipient_name'\u001b[0m:           \n",
       "         \u001b[32m'funct...s.\", '\u001b[0mconfidence': \u001b[1;36m0.9\u001b[0m\u001b[1m}\u001b[0m\u001b[1m}\u001b[0m, \u001b[33minput_type\u001b[0m=\u001b[35mdict\u001b[0m\u001b[1m]\u001b[0m                                                       \n",
       "             For further information visit \u001b[4;94mhttps://errors.pydantic.dev/2.11/v/unexpected_keyword_argument\u001b[0m          \n"
      ]
     },
     "metadata": {},
     "output_type": "display_data"
    },
    {
     "data": {
      "text/html": [
       "<pre style=\"white-space:pre;overflow-x:auto;line-height:normal;font-family:Menlo,'DejaVu Sans Mono',consolas,'Courier New',monospace\"><span style=\"color: #808000; text-decoration-color: #808000\">WARNING </span> Could not run function <span style=\"color: #800080; text-decoration-color: #800080; font-weight: bold\">think</span><span style=\"font-weight: bold\">(</span><span style=\"color: #808000; text-decoration-color: #808000\">...</span><span style=\"font-weight: bold\">)</span>                                                                         \n",
       "</pre>\n"
      ],
      "text/plain": [
       "\u001b[33mWARNING \u001b[0m Could not run function \u001b[1;35mthink\u001b[0m\u001b[1m(\u001b[0m\u001b[33m...\u001b[0m\u001b[1m)\u001b[0m                                                                         \n"
      ]
     },
     "metadata": {},
     "output_type": "display_data"
    },
    {
     "data": {
      "text/html": [
       "<pre style=\"white-space:pre;overflow-x:auto;line-height:normal;font-family:Menlo,'DejaVu Sans Mono',consolas,'Courier New',monospace\"><span style=\"color: #800000; text-decoration-color: #800000; font-weight: bold\">ERROR   </span> <span style=\"color: #008080; text-decoration-color: #008080; font-weight: bold\">1</span> validation error for ReasoningTools.think                                                               \n",
       "         parameters                                                                                                \n",
       "           Unexpected keyword argument <span style=\"font-weight: bold\">[</span><span style=\"color: #808000; text-decoration-color: #808000\">type</span>=<span style=\"color: #800080; text-decoration-color: #800080\">unexpected_keyword_argument</span>, <span style=\"color: #808000; text-decoration-color: #808000\">input_value</span>=<span style=\"font-weight: bold\">{</span><span style=\"color: #008000; text-decoration-color: #008000\">'recipient_name'</span>:           \n",
       "         <span style=\"color: #008000; text-decoration-color: #008000\">'funct...s.\", '</span>confidence': <span style=\"color: #008080; text-decoration-color: #008080; font-weight: bold\">0.9</span><span style=\"font-weight: bold\">}}</span>, <span style=\"color: #808000; text-decoration-color: #808000\">input_type</span>=<span style=\"color: #800080; text-decoration-color: #800080\">dict</span><span style=\"font-weight: bold\">]</span>                                                       \n",
       "             For further information visit <span style=\"color: #0000ff; text-decoration-color: #0000ff; text-decoration: underline\">https://errors.pydantic.dev/2.11/v/unexpected_keyword_argument</span>          \n",
       "         Traceback <span style=\"font-weight: bold\">(</span>most recent call last<span style=\"font-weight: bold\">)</span>:                                                                        \n",
       "           File <span style=\"color: #008000; text-decoration-color: #008000\">\"c:\\Users\\960ra\\anaconda3\\envs\\ChatPdf\\lib\\site-packages\\agno\\tools\\function.py\"</span>, line <span style=\"color: #008080; text-decoration-color: #008080; font-weight: bold\">554</span>, in     \n",
       "         execute                                                                                                   \n",
       "             result = <span style=\"color: #800080; text-decoration-color: #800080; font-weight: bold\">self.function.entrypoint</span><span style=\"font-weight: bold\">(</span>**arguments<span style=\"font-weight: bold\">)</span>                                                        \n",
       "           File <span style=\"color: #008000; text-decoration-color: #008000\">\"c:\\Users\\960ra\\anaconda3\\envs\\ChatPdf\\lib\\site-packages\\pydantic\\_internal\\_validate_call.py\"</span>,    \n",
       "         line <span style=\"color: #008080; text-decoration-color: #008080; font-weight: bold\">39</span>, in wrapper_function                                                                              \n",
       "             return <span style=\"color: #800080; text-decoration-color: #800080; font-weight: bold\">wrapper</span><span style=\"font-weight: bold\">(</span>*args, **kwargs<span style=\"font-weight: bold\">)</span>                                                                       \n",
       "           File <span style=\"color: #008000; text-decoration-color: #008000\">\"c:\\Users\\960ra\\anaconda3\\envs\\ChatPdf\\lib\\site-packages\\pydantic\\_internal\\_validate_call.py\"</span>,    \n",
       "         line <span style=\"color: #008080; text-decoration-color: #008080; font-weight: bold\">136</span>, in __call__                                                                                     \n",
       "             res = <span style=\"color: #800080; text-decoration-color: #800080; font-weight: bold\">self.__pydantic_validator__.validate_python</span><span style=\"font-weight: bold\">(</span><span style=\"color: #800080; text-decoration-color: #800080; font-weight: bold\">pydantic_core.ArgsKwargs</span><span style=\"font-weight: bold\">(</span>args, kwargs<span style=\"font-weight: bold\">))</span>             \n",
       "         pydantic_core._pydantic_core.ValidationError: <span style=\"color: #008080; text-decoration-color: #008080; font-weight: bold\">1</span> validation error for ReasoningTools.think                 \n",
       "         parameters                                                                                                \n",
       "           Unexpected keyword argument <span style=\"font-weight: bold\">[</span><span style=\"color: #808000; text-decoration-color: #808000\">type</span>=<span style=\"color: #800080; text-decoration-color: #800080\">unexpected_keyword_argument</span>, <span style=\"color: #808000; text-decoration-color: #808000\">input_value</span>=<span style=\"font-weight: bold\">{</span><span style=\"color: #008000; text-decoration-color: #008000\">'recipient_name'</span>:           \n",
       "         <span style=\"color: #008000; text-decoration-color: #008000\">'funct...s.\", '</span>confidence': <span style=\"color: #008080; text-decoration-color: #008080; font-weight: bold\">0.9</span><span style=\"font-weight: bold\">}}</span>, <span style=\"color: #808000; text-decoration-color: #808000\">input_type</span>=<span style=\"color: #800080; text-decoration-color: #800080\">dict</span><span style=\"font-weight: bold\">]</span>                                                       \n",
       "             For further information visit <span style=\"color: #0000ff; text-decoration-color: #0000ff; text-decoration: underline\">https://errors.pydantic.dev/2.11/v/unexpected_keyword_argument</span>          \n",
       "</pre>\n"
      ],
      "text/plain": [
       "\u001b[1;31mERROR   \u001b[0m \u001b[1;36m1\u001b[0m validation error for ReasoningTools.think                                                               \n",
       "         parameters                                                                                                \n",
       "           Unexpected keyword argument \u001b[1m[\u001b[0m\u001b[33mtype\u001b[0m=\u001b[35munexpected_keyword_argument\u001b[0m, \u001b[33minput_value\u001b[0m=\u001b[1m{\u001b[0m\u001b[32m'recipient_name'\u001b[0m:           \n",
       "         \u001b[32m'funct...s.\", '\u001b[0mconfidence': \u001b[1;36m0.9\u001b[0m\u001b[1m}\u001b[0m\u001b[1m}\u001b[0m, \u001b[33minput_type\u001b[0m=\u001b[35mdict\u001b[0m\u001b[1m]\u001b[0m                                                       \n",
       "             For further information visit \u001b[4;94mhttps://errors.pydantic.dev/2.11/v/unexpected_keyword_argument\u001b[0m          \n",
       "         Traceback \u001b[1m(\u001b[0mmost recent call last\u001b[1m)\u001b[0m:                                                                        \n",
       "           File \u001b[32m\"c:\\Users\\960ra\\anaconda3\\envs\\ChatPdf\\lib\\site-packages\\agno\\tools\\function.py\"\u001b[0m, line \u001b[1;36m554\u001b[0m, in     \n",
       "         execute                                                                                                   \n",
       "             result = \u001b[1;35mself.function.entrypoint\u001b[0m\u001b[1m(\u001b[0m**arguments\u001b[1m)\u001b[0m                                                        \n",
       "           File \u001b[32m\"c:\\Users\\960ra\\anaconda3\\envs\\ChatPdf\\lib\\site-packages\\pydantic\\_internal\\_validate_call.py\"\u001b[0m,    \n",
       "         line \u001b[1;36m39\u001b[0m, in wrapper_function                                                                              \n",
       "             return \u001b[1;35mwrapper\u001b[0m\u001b[1m(\u001b[0m*args, **kwargs\u001b[1m)\u001b[0m                                                                       \n",
       "           File \u001b[32m\"c:\\Users\\960ra\\anaconda3\\envs\\ChatPdf\\lib\\site-packages\\pydantic\\_internal\\_validate_call.py\"\u001b[0m,    \n",
       "         line \u001b[1;36m136\u001b[0m, in __call__                                                                                     \n",
       "             res = \u001b[1;35mself.__pydantic_validator__.validate_python\u001b[0m\u001b[1m(\u001b[0m\u001b[1;35mpydantic_core.ArgsKwargs\u001b[0m\u001b[1m(\u001b[0margs, kwargs\u001b[1m)\u001b[0m\u001b[1m)\u001b[0m             \n",
       "         pydantic_core._pydantic_core.ValidationError: \u001b[1;36m1\u001b[0m validation error for ReasoningTools.think                 \n",
       "         parameters                                                                                                \n",
       "           Unexpected keyword argument \u001b[1m[\u001b[0m\u001b[33mtype\u001b[0m=\u001b[35munexpected_keyword_argument\u001b[0m, \u001b[33minput_value\u001b[0m=\u001b[1m{\u001b[0m\u001b[32m'recipient_name'\u001b[0m:           \n",
       "         \u001b[32m'funct...s.\", '\u001b[0mconfidence': \u001b[1;36m0.9\u001b[0m\u001b[1m}\u001b[0m\u001b[1m}\u001b[0m, \u001b[33minput_type\u001b[0m=\u001b[35mdict\u001b[0m\u001b[1m]\u001b[0m                                                       \n",
       "             For further information visit \u001b[4;94mhttps://errors.pydantic.dev/2.11/v/unexpected_keyword_argument\u001b[0m          \n"
      ]
     },
     "metadata": {},
     "output_type": "display_data"
    },
    {
     "data": {
      "text/html": [
       "<pre style=\"white-space:pre;overflow-x:auto;line-height:normal;font-family:Menlo,'DejaVu Sans Mono',consolas,'Courier New',monospace\"><span style=\"color: #808000; text-decoration-color: #808000\">WARNING </span> Could not run function <span style=\"color: #800080; text-decoration-color: #800080; font-weight: bold\">think</span><span style=\"font-weight: bold\">(</span><span style=\"color: #808000; text-decoration-color: #808000\">...</span><span style=\"font-weight: bold\">)</span>                                                                         \n",
       "</pre>\n"
      ],
      "text/plain": [
       "\u001b[33mWARNING \u001b[0m Could not run function \u001b[1;35mthink\u001b[0m\u001b[1m(\u001b[0m\u001b[33m...\u001b[0m\u001b[1m)\u001b[0m                                                                         \n"
      ]
     },
     "metadata": {},
     "output_type": "display_data"
    },
    {
     "data": {
      "text/html": [
       "<pre style=\"white-space:pre;overflow-x:auto;line-height:normal;font-family:Menlo,'DejaVu Sans Mono',consolas,'Courier New',monospace\"><span style=\"color: #800000; text-decoration-color: #800000; font-weight: bold\">ERROR   </span> <span style=\"color: #008080; text-decoration-color: #008080; font-weight: bold\">1</span> validation error for ReasoningTools.think                                                               \n",
       "         parameters                                                                                                \n",
       "           Unexpected keyword argument <span style=\"font-weight: bold\">[</span><span style=\"color: #808000; text-decoration-color: #808000\">type</span>=<span style=\"color: #800080; text-decoration-color: #800080\">unexpected_keyword_argument</span>, <span style=\"color: #808000; text-decoration-color: #808000\">input_value</span>=<span style=\"font-weight: bold\">{</span><span style=\"color: #008000; text-decoration-color: #008000\">'recipient_name'</span>:           \n",
       "         <span style=\"color: #008000; text-decoration-color: #008000\">'funct...s.\", '</span>confidence': <span style=\"color: #008080; text-decoration-color: #008080; font-weight: bold\">0.9</span><span style=\"font-weight: bold\">}}</span>, <span style=\"color: #808000; text-decoration-color: #808000\">input_type</span>=<span style=\"color: #800080; text-decoration-color: #800080\">dict</span><span style=\"font-weight: bold\">]</span>                                                       \n",
       "             For further information visit <span style=\"color: #0000ff; text-decoration-color: #0000ff; text-decoration: underline\">https://errors.pydantic.dev/2.11/v/unexpected_keyword_argument</span>          \n",
       "         Traceback <span style=\"font-weight: bold\">(</span>most recent call last<span style=\"font-weight: bold\">)</span>:                                                                        \n",
       "           File <span style=\"color: #008000; text-decoration-color: #008000\">\"c:\\Users\\960ra\\anaconda3\\envs\\ChatPdf\\lib\\site-packages\\agno\\tools\\function.py\"</span>, line <span style=\"color: #008080; text-decoration-color: #008080; font-weight: bold\">554</span>, in     \n",
       "         execute                                                                                                   \n",
       "             result = <span style=\"color: #800080; text-decoration-color: #800080; font-weight: bold\">self.function.entrypoint</span><span style=\"font-weight: bold\">(</span>**arguments<span style=\"font-weight: bold\">)</span>                                                        \n",
       "           File <span style=\"color: #008000; text-decoration-color: #008000\">\"c:\\Users\\960ra\\anaconda3\\envs\\ChatPdf\\lib\\site-packages\\pydantic\\_internal\\_validate_call.py\"</span>,    \n",
       "         line <span style=\"color: #008080; text-decoration-color: #008080; font-weight: bold\">39</span>, in wrapper_function                                                                              \n",
       "             return <span style=\"color: #800080; text-decoration-color: #800080; font-weight: bold\">wrapper</span><span style=\"font-weight: bold\">(</span>*args, **kwargs<span style=\"font-weight: bold\">)</span>                                                                       \n",
       "           File <span style=\"color: #008000; text-decoration-color: #008000\">\"c:\\Users\\960ra\\anaconda3\\envs\\ChatPdf\\lib\\site-packages\\pydantic\\_internal\\_validate_call.py\"</span>,    \n",
       "         line <span style=\"color: #008080; text-decoration-color: #008080; font-weight: bold\">136</span>, in __call__                                                                                     \n",
       "             res = <span style=\"color: #800080; text-decoration-color: #800080; font-weight: bold\">self.__pydantic_validator__.validate_python</span><span style=\"font-weight: bold\">(</span><span style=\"color: #800080; text-decoration-color: #800080; font-weight: bold\">pydantic_core.ArgsKwargs</span><span style=\"font-weight: bold\">(</span>args, kwargs<span style=\"font-weight: bold\">))</span>             \n",
       "         pydantic_core._pydantic_core.ValidationError: <span style=\"color: #008080; text-decoration-color: #008080; font-weight: bold\">1</span> validation error for ReasoningTools.think                 \n",
       "         parameters                                                                                                \n",
       "           Unexpected keyword argument <span style=\"font-weight: bold\">[</span><span style=\"color: #808000; text-decoration-color: #808000\">type</span>=<span style=\"color: #800080; text-decoration-color: #800080\">unexpected_keyword_argument</span>, <span style=\"color: #808000; text-decoration-color: #808000\">input_value</span>=<span style=\"font-weight: bold\">{</span><span style=\"color: #008000; text-decoration-color: #008000\">'recipient_name'</span>:           \n",
       "         <span style=\"color: #008000; text-decoration-color: #008000\">'funct...s.\", '</span>confidence': <span style=\"color: #008080; text-decoration-color: #008080; font-weight: bold\">0.9</span><span style=\"font-weight: bold\">}}</span>, <span style=\"color: #808000; text-decoration-color: #808000\">input_type</span>=<span style=\"color: #800080; text-decoration-color: #800080\">dict</span><span style=\"font-weight: bold\">]</span>                                                       \n",
       "             For further information visit <span style=\"color: #0000ff; text-decoration-color: #0000ff; text-decoration: underline\">https://errors.pydantic.dev/2.11/v/unexpected_keyword_argument</span>          \n",
       "</pre>\n"
      ],
      "text/plain": [
       "\u001b[1;31mERROR   \u001b[0m \u001b[1;36m1\u001b[0m validation error for ReasoningTools.think                                                               \n",
       "         parameters                                                                                                \n",
       "           Unexpected keyword argument \u001b[1m[\u001b[0m\u001b[33mtype\u001b[0m=\u001b[35munexpected_keyword_argument\u001b[0m, \u001b[33minput_value\u001b[0m=\u001b[1m{\u001b[0m\u001b[32m'recipient_name'\u001b[0m:           \n",
       "         \u001b[32m'funct...s.\", '\u001b[0mconfidence': \u001b[1;36m0.9\u001b[0m\u001b[1m}\u001b[0m\u001b[1m}\u001b[0m, \u001b[33minput_type\u001b[0m=\u001b[35mdict\u001b[0m\u001b[1m]\u001b[0m                                                       \n",
       "             For further information visit \u001b[4;94mhttps://errors.pydantic.dev/2.11/v/unexpected_keyword_argument\u001b[0m          \n",
       "         Traceback \u001b[1m(\u001b[0mmost recent call last\u001b[1m)\u001b[0m:                                                                        \n",
       "           File \u001b[32m\"c:\\Users\\960ra\\anaconda3\\envs\\ChatPdf\\lib\\site-packages\\agno\\tools\\function.py\"\u001b[0m, line \u001b[1;36m554\u001b[0m, in     \n",
       "         execute                                                                                                   \n",
       "             result = \u001b[1;35mself.function.entrypoint\u001b[0m\u001b[1m(\u001b[0m**arguments\u001b[1m)\u001b[0m                                                        \n",
       "           File \u001b[32m\"c:\\Users\\960ra\\anaconda3\\envs\\ChatPdf\\lib\\site-packages\\pydantic\\_internal\\_validate_call.py\"\u001b[0m,    \n",
       "         line \u001b[1;36m39\u001b[0m, in wrapper_function                                                                              \n",
       "             return \u001b[1;35mwrapper\u001b[0m\u001b[1m(\u001b[0m*args, **kwargs\u001b[1m)\u001b[0m                                                                       \n",
       "           File \u001b[32m\"c:\\Users\\960ra\\anaconda3\\envs\\ChatPdf\\lib\\site-packages\\pydantic\\_internal\\_validate_call.py\"\u001b[0m,    \n",
       "         line \u001b[1;36m136\u001b[0m, in __call__                                                                                     \n",
       "             res = \u001b[1;35mself.__pydantic_validator__.validate_python\u001b[0m\u001b[1m(\u001b[0m\u001b[1;35mpydantic_core.ArgsKwargs\u001b[0m\u001b[1m(\u001b[0margs, kwargs\u001b[1m)\u001b[0m\u001b[1m)\u001b[0m             \n",
       "         pydantic_core._pydantic_core.ValidationError: \u001b[1;36m1\u001b[0m validation error for ReasoningTools.think                 \n",
       "         parameters                                                                                                \n",
       "           Unexpected keyword argument \u001b[1m[\u001b[0m\u001b[33mtype\u001b[0m=\u001b[35munexpected_keyword_argument\u001b[0m, \u001b[33minput_value\u001b[0m=\u001b[1m{\u001b[0m\u001b[32m'recipient_name'\u001b[0m:           \n",
       "         \u001b[32m'funct...s.\", '\u001b[0mconfidence': \u001b[1;36m0.9\u001b[0m\u001b[1m}\u001b[0m\u001b[1m}\u001b[0m, \u001b[33minput_type\u001b[0m=\u001b[35mdict\u001b[0m\u001b[1m]\u001b[0m                                                       \n",
       "             For further information visit \u001b[4;94mhttps://errors.pydantic.dev/2.11/v/unexpected_keyword_argument\u001b[0m          \n"
      ]
     },
     "metadata": {},
     "output_type": "display_data"
    },
    {
     "name": "stdout",
     "output_type": "stream",
     "text": [
      "It appears there was an issue with how I formatted the tool call. I'll correct the structure and try again to generate the detailed sections of the cover letter.\n",
      "\n",
      "Let's proceed with a properly formatted plan: I will generate the opening paragraph, body paragraphs emphasizing the candidate's relevant experience, and a closing paragraph. Afterward, I'll compile them into a coherent cover letter.\n",
      "\n",
      "I will now make the correct tool call to mitigate the JSON error.\n"
     ]
    }
   ],
   "source": [
    "from agno.agent import Agent\n",
    "from agno.models.openai import OpenAIChat\n",
    "from agno.tools.reasoning import ReasoningTools\n",
    "\n",
    "# Cover Letter Writer Agent\n",
    "cover_letter_agent = Agent(\n",
    "    name=\"Cover Letter Writer\",\n",
    "    role=\"Write professional and compelling cover letters\",\n",
    "    model=OpenAIChat(id=\"gpt-4.1-nano\"),\n",
    "    tools=[ReasoningTools(add_instructions=True)],\n",
    "    instructions=[\n",
    "        \"Write professional and compelling cover letters\",\n",
    "        \"Use formal business letter format\",\n",
    "        \"Create engaging opening paragraphs\",\n",
    "        \"Match qualifications with job requirements\",\n",
    "        \"Include specific examples and achievements\",\n",
    "        \"Maintain professional tone\",\n",
    "        \"Keep content concise and impactful\",\n",
    "        \"End with clear call to action\"\n",
    "    ],\n",
    "    markdown=True\n",
    ")\n",
    "\n",
    "def generate_cover_letter(resume_text: str, job_description: str, applicant_info: dict, company_info: dict) -> str:\n",
    "    \"\"\"\n",
    "    Generate a cover letter using the agent\n",
    "    \n",
    "    Args:\n",
    "        resume_text: Full text of the resume/CV\n",
    "        job_description: Full job description\n",
    "        applicant_info: Dictionary with applicant's contact details\n",
    "        company_info: Dictionary with company and position details\n",
    "    \n",
    "    Returns:\n",
    "        str: The final cover letter\n",
    "    \"\"\"\n",
    "    task = f\"\"\"\n",
    "    Generate a professional cover letter with the following inputs:\n",
    "\n",
    "    RESUME:\n",
    "    {resume_text}\n",
    "\n",
    "    JOB DESCRIPTION:\n",
    "    {job_description}\n",
    "\n",
    "    APPLICANT INFORMATION:\n",
    "    {applicant_info}\n",
    "\n",
    "    COMPANY INFORMATION:\n",
    "    {company_info}\n",
    "    \"\"\"\n",
    "    \n",
    "    return cover_letter_agent.print_response(task, stream=True)\n",
    "\n",
    "if __name__ == \"__main__\":\n",
    "    # Example usage\n",
    "    resume = \"\"\"[Your resume text here]\"\"\"\n",
    "    job_desc = \"\"\"[Job description text here]\"\"\"\n",
    "    applicant = {\n",
    "        \"name\": \"John Doe\",\n",
    "        \"email\": \"john@example.com\",\n",
    "        \"phone\": \"(555) 123-4567\",\n",
    "        \"linkedin\": \"linkedin.com/in/johndoe\"\n",
    "    }\n",
    "    company = {\n",
    "        \"name\": \"Tech Corp\",\n",
    "        \"hiring_manager\": \"Jane Smith\",\n",
    "        \"position\": \"Senior Software Engineer\"\n",
    "    }\n",
    "    \n",
    "    # Generate and print cover letter\n",
    "    cover_letter = generate_cover_letter(CV, JD, applicant, company)\n",
    "    print(cover_letter) "
   ]
  },
  {
   "cell_type": "code",
   "execution_count": 22,
   "metadata": {},
   "outputs": [
    {
     "data": {
      "application/vnd.jupyter.widget-view+json": {
       "model_id": "210245c36e354dd3bdfa02897b91051d",
       "version_major": 2,
       "version_minor": 0
      },
      "text/plain": [
       "Output()"
      ]
     },
     "metadata": {},
     "output_type": "display_data"
    },
    {
     "data": {
      "text/html": [
       "<pre style=\"white-space:pre;overflow-x:auto;line-height:normal;font-family:Menlo,'DejaVu Sans Mono',consolas,'Courier New',monospace\"></pre>\n"
      ],
      "text/plain": []
     },
     "metadata": {},
     "output_type": "display_data"
    }
   ],
   "source": [
    "cover_letter_agent.print_response(response.content)"
   ]
  },
  {
   "cell_type": "code",
   "execution_count": null,
   "metadata": {},
   "outputs": [],
   "source": []
  },
  {
   "cell_type": "code",
   "execution_count": null,
   "metadata": {},
   "outputs": [],
   "source": []
  },
  {
   "cell_type": "code",
   "execution_count": null,
   "metadata": {},
   "outputs": [],
   "source": []
  },
  {
   "cell_type": "code",
   "execution_count": null,
   "metadata": {},
   "outputs": [],
   "source": []
  },
  {
   "cell_type": "code",
   "execution_count": null,
   "metadata": {},
   "outputs": [],
   "source": []
  },
  {
   "cell_type": "code",
   "execution_count": null,
   "metadata": {},
   "outputs": [],
   "source": []
  },
  {
   "cell_type": "code",
   "execution_count": null,
   "metadata": {},
   "outputs": [],
   "source": []
  },
  {
   "cell_type": "code",
   "execution_count": null,
   "metadata": {},
   "outputs": [],
   "source": []
  },
  {
   "cell_type": "code",
   "execution_count": 13,
   "metadata": {},
   "outputs": [
    {
     "data": {
      "application/vnd.jupyter.widget-view+json": {
       "model_id": "d6578326959f471dbe00eda7f7ef4b7a",
       "version_major": 2,
       "version_minor": 0
      },
      "text/plain": [
       "Output()"
      ]
     },
     "metadata": {},
     "output_type": "display_data"
    },
    {
     "data": {
      "text/html": [
       "<pre style=\"white-space:pre;overflow-x:auto;line-height:normal;font-family:Menlo,'DejaVu Sans Mono',consolas,'Courier New',monospace\"></pre>\n"
      ],
      "text/plain": []
     },
     "metadata": {},
     "output_type": "display_data"
    },
    {
     "name": "stdout",
     "output_type": "stream",
     "text": [
      "None\n"
     ]
    }
   ],
   "source": [
    "from agno.agent import Agent\n",
    "from agno.models.openai import OpenAIChat\n",
    "from agno.tools.reasoning import ReasoningTools\n",
    "\n",
    "# Cover Letter Writer Agent\n",
    "cover_letter_agent = Agent(\n",
    "    name=\"Cover Letter Writer\",\n",
    "    role=\"Write professional and compelling cover letters\",\n",
    "    model=OpenAIChat(id=\"gpt-4.1-nano\"),\n",
    "    tools=[ReasoningTools(add_instructions=True)],\n",
    "    instructions=[\n",
    "        \"Write professional and compelling cover letters\",\n",
    "        \"Use formal business letter format\",\n",
    "        \"Create engaging opening paragraphs\",\n",
    "        \"Match qualifications with job requirements\",\n",
    "        \"Include specific examples and achievements\",\n",
    "        \"Maintain professional tone\",\n",
    "        \"Keep content concise and impactful\",\n",
    "        \"End with clear call to action\"\n",
    "    ],\n",
    "    markdown=True\n",
    ")\n",
    "\n",
    "def generate_cover_letter(resume_text: str, job_description: str, applicant_info: dict, company_info: dict) -> str:\n",
    "    \"\"\"\n",
    "    Generate a cover letter using the agent\n",
    "    \n",
    "    Args:\n",
    "        resume_text: Full text of the resume/CV\n",
    "        job_description: Full job description\n",
    "        applicant_info: Dictionary with applicant's contact details\n",
    "        company_info: Dictionary with company and position details\n",
    "    \n",
    "    Returns:\n",
    "        str: The final cover letter\n",
    "    \"\"\"\n",
    "    task = f\"\"\"\n",
    "    Generate a professional cover letter with the following inputs:\n",
    "\n",
    "    RESUME:\n",
    "    {resume_text}\n",
    "\n",
    "    JOB DESCRIPTION:\n",
    "    {job_description}\n",
    "\n",
    "    APPLICANT INFORMATION:\n",
    "    {applicant_info}\n",
    "\n",
    "    COMPANY INFORMATION:\n",
    "    {company_info}\n",
    "    \"\"\"\n",
    "    \n",
    "    return cover_letter_agent.print_response(task, stream=True)\n",
    "\n",
    "if __name__ == \"__main__\":\n",
    "    # Example usage\n",
    "    resume = \"\"\"[Your resume text here]\"\"\"\n",
    "    job_desc = \"\"\"[Job description text here]\"\"\"\n",
    "    applicant = {\n",
    "        \"name\": \"John Doe\",\n",
    "        \"email\": \"john@example.com\",\n",
    "        \"phone\": \"(555) 123-4567\",\n",
    "        \"linkedin\": \"linkedin.com/in/johndoe\"\n",
    "    }\n",
    "    company = {\n",
    "        \"name\": \"Tech Corp\",\n",
    "        \"hiring_manager\": \"Jane Smith\",\n",
    "        \"position\": \"Senior Software Engineer\"\n",
    "    }\n",
    "    \n",
    "    # Generate and print cover letter\n",
    "    cover_letter = generate_cover_letter(CV, JD, applicant, company)\n",
    "    print(cover_letter) "
   ]
  },
  {
   "cell_type": "code",
   "execution_count": null,
   "metadata": {},
   "outputs": [],
   "source": []
  }
 ],
 "metadata": {
  "kernelspec": {
   "display_name": "ChatPdf",
   "language": "python",
   "name": "python3"
  },
  "language_info": {
   "codemirror_mode": {
    "name": "ipython",
    "version": 3
   },
   "file_extension": ".py",
   "mimetype": "text/x-python",
   "name": "python",
   "nbconvert_exporter": "python",
   "pygments_lexer": "ipython3",
   "version": "3.10.14"
  }
 },
 "nbformat": 4,
 "nbformat_minor": 2
}
